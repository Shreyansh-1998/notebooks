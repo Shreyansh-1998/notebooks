{
 "cells": [
  {
   "cell_type": "code",
   "execution_count": 1,
   "id": "c096a890-790c-43d2-890b-e1337c11dfe9",
   "metadata": {},
   "outputs": [],
   "source": [
    "import pandas as pd\n"
   ]
  },
  {
   "cell_type": "code",
   "execution_count": 5,
   "id": "9a2749be-f3ae-4bb1-a82c-a9c84b875fd5",
   "metadata": {},
   "outputs": [],
   "source": [
    "#Source:https://www.kaggle.com/datasets/lakshmi25npathi/imdb-dataset-of-50k-movie-reviews?resource=download and importing IMDB dataset(make sure you keep it in your working directory\n",
    "messages=pd.read_csv(\"IMDB Dataset.csv\", names=[\"review\",\"sentiment\"])"
   ]
  },
  {
   "cell_type": "code",
   "execution_count": 6,
   "id": "04c420b1-6032-427a-b9c8-c20023eca22e",
   "metadata": {},
   "outputs": [
    {
     "data": {
      "text/html": [
       "<div>\n",
       "<style scoped>\n",
       "    .dataframe tbody tr th:only-of-type {\n",
       "        vertical-align: middle;\n",
       "    }\n",
       "\n",
       "    .dataframe tbody tr th {\n",
       "        vertical-align: top;\n",
       "    }\n",
       "\n",
       "    .dataframe thead th {\n",
       "        text-align: right;\n",
       "    }\n",
       "</style>\n",
       "<table border=\"1\" class=\"dataframe\">\n",
       "  <thead>\n",
       "    <tr style=\"text-align: right;\">\n",
       "      <th></th>\n",
       "      <th>review</th>\n",
       "      <th>sentiment</th>\n",
       "    </tr>\n",
       "  </thead>\n",
       "  <tbody>\n",
       "    <tr>\n",
       "      <th>0</th>\n",
       "      <td>review</td>\n",
       "      <td>sentiment</td>\n",
       "    </tr>\n",
       "    <tr>\n",
       "      <th>1</th>\n",
       "      <td>One of the other reviewers has mentioned that ...</td>\n",
       "      <td>positive</td>\n",
       "    </tr>\n",
       "    <tr>\n",
       "      <th>2</th>\n",
       "      <td>A wonderful little production. &lt;br /&gt;&lt;br /&gt;The...</td>\n",
       "      <td>positive</td>\n",
       "    </tr>\n",
       "    <tr>\n",
       "      <th>3</th>\n",
       "      <td>I thought this was a wonderful way to spend ti...</td>\n",
       "      <td>positive</td>\n",
       "    </tr>\n",
       "    <tr>\n",
       "      <th>4</th>\n",
       "      <td>Basically there's a family where a little boy ...</td>\n",
       "      <td>negative</td>\n",
       "    </tr>\n",
       "    <tr>\n",
       "      <th>...</th>\n",
       "      <td>...</td>\n",
       "      <td>...</td>\n",
       "    </tr>\n",
       "    <tr>\n",
       "      <th>49996</th>\n",
       "      <td>I thought this movie did a down right good job...</td>\n",
       "      <td>positive</td>\n",
       "    </tr>\n",
       "    <tr>\n",
       "      <th>49997</th>\n",
       "      <td>Bad plot, bad dialogue, bad acting, idiotic di...</td>\n",
       "      <td>negative</td>\n",
       "    </tr>\n",
       "    <tr>\n",
       "      <th>49998</th>\n",
       "      <td>I am a Catholic taught in parochial elementary...</td>\n",
       "      <td>negative</td>\n",
       "    </tr>\n",
       "    <tr>\n",
       "      <th>49999</th>\n",
       "      <td>I'm going to have to disagree with the previou...</td>\n",
       "      <td>negative</td>\n",
       "    </tr>\n",
       "    <tr>\n",
       "      <th>50000</th>\n",
       "      <td>No one expects the Star Trek movies to be high...</td>\n",
       "      <td>negative</td>\n",
       "    </tr>\n",
       "  </tbody>\n",
       "</table>\n",
       "<p>50001 rows × 2 columns</p>\n",
       "</div>"
      ],
      "text/plain": [
       "                                                  review  sentiment\n",
       "0                                                 review  sentiment\n",
       "1      One of the other reviewers has mentioned that ...   positive\n",
       "2      A wonderful little production. <br /><br />The...   positive\n",
       "3      I thought this was a wonderful way to spend ti...   positive\n",
       "4      Basically there's a family where a little boy ...   negative\n",
       "...                                                  ...        ...\n",
       "49996  I thought this movie did a down right good job...   positive\n",
       "49997  Bad plot, bad dialogue, bad acting, idiotic di...   negative\n",
       "49998  I am a Catholic taught in parochial elementary...   negative\n",
       "49999  I'm going to have to disagree with the previou...   negative\n",
       "50000  No one expects the Star Trek movies to be high...   negative\n",
       "\n",
       "[50001 rows x 2 columns]"
      ]
     },
     "execution_count": 6,
     "metadata": {},
     "output_type": "execute_result"
    }
   ],
   "source": [
    "messages"
   ]
  },
  {
   "cell_type": "code",
   "execution_count": 7,
   "id": "66df5e5f-ddce-4214-9988-844208c6b8e7",
   "metadata": {},
   "outputs": [
    {
     "data": {
      "text/plain": [
       "(50001, 2)"
      ]
     },
     "execution_count": 7,
     "metadata": {},
     "output_type": "execute_result"
    }
   ],
   "source": [
    "messages.shape"
   ]
  },
  {
   "cell_type": "code",
   "execution_count": 8,
   "id": "b56244ad-b2ff-4158-81a7-381f1f516cf2",
   "metadata": {},
   "outputs": [
    {
     "name": "stderr",
     "output_type": "stream",
     "text": [
      "[nltk_data] Downloading package stopwords to\n",
      "[nltk_data]     /Users/shrey_98/nltk_data...\n",
      "[nltk_data]   Package stopwords is already up-to-date!\n"
     ]
    },
    {
     "data": {
      "text/plain": [
       "True"
      ]
     },
     "execution_count": 8,
     "metadata": {},
     "output_type": "execute_result"
    }
   ],
   "source": [
    "#Data Cleaning and Preprocessing\n",
    "import re\n",
    "import nltk\n",
    "nltk.download(\"stopwords\")"
   ]
  },
  {
   "cell_type": "code",
   "execution_count": 9,
   "id": "228415fc-dbcc-4334-a434-3f849bf5b858",
   "metadata": {},
   "outputs": [],
   "source": [
    "from nltk.corpus import stopwords\n",
    "from nltk.stem.porter import PorterStemmer\n",
    "ps=PorterStemmer()"
   ]
  },
  {
   "cell_type": "code",
   "execution_count": 12,
   "id": "20096053-24d1-41f3-beba-89de4f98a957",
   "metadata": {},
   "outputs": [],
   "source": [
    "corpus=[]\n",
    "for i in range(0,len(messages)):\n",
    "    review=re.sub('[^a-zA-Z0-9]',' ', messages['review'][i])\n",
    "    review=review.lower()\n",
    "    review=review.split()\n",
    "    review=[ps.stem(word)for word in review if not word in stopwords.words('english')]\n",
    "    review=' '.join(review)\n",
    "    corpus.append(review)"
   ]
  },
  {
   "cell_type": "code",
   "execution_count": 17,
   "id": "c8dd67d6-e29c-492d-a83f-51e0a7cd2b6f",
   "metadata": {},
   "outputs": [],
   "source": [
    "#Now creating a bag of Words model\n",
    "from sklearn.feature_extraction.text import CountVectorizer\n",
    "cv=CountVectorizer(max_features=2000,binary=True,ngram_range=(2,2))"
   ]
  },
  {
   "cell_type": "code",
   "execution_count": 24,
   "id": "a80353ee-709b-40fe-bf2e-1f88d0e03062",
   "metadata": {},
   "outputs": [],
   "source": [
    "X=cv.fit_transform(corpus).toarray()"
   ]
  },
  {
   "cell_type": "code",
   "execution_count": 25,
   "id": "0022526a-c858-469d-b0e2-f0a51176e6d1",
   "metadata": {},
   "outputs": [
    {
     "data": {
      "text/plain": [
       "array([0, 0, 0, ..., 0, 0, 0])"
      ]
     },
     "execution_count": 25,
     "metadata": {},
     "output_type": "execute_result"
    }
   ],
   "source": [
    "X[1]"
   ]
  },
  {
   "cell_type": "code",
   "execution_count": 26,
   "id": "c2bde418-80e7-4c8a-b017-e7e93b9763d7",
   "metadata": {},
   "outputs": [],
   "source": [
    "y=pd.get_dummies(messages['sentiment'],dtype=int)\n",
    "y=y.iloc[:,1].values"
   ]
  },
  {
   "cell_type": "code",
   "execution_count": 27,
   "id": "f5ad5a2f-122a-4f9d-a439-bf0766aa63c1",
   "metadata": {},
   "outputs": [
    {
     "data": {
      "text/plain": [
       "array([0, 1, 1, ..., 0, 0, 0])"
      ]
     },
     "execution_count": 27,
     "metadata": {},
     "output_type": "execute_result"
    }
   ],
   "source": [
    "y"
   ]
  },
  {
   "cell_type": "code",
   "execution_count": 28,
   "id": "a6342925-f9d1-481f-aa9f-f4919eebe508",
   "metadata": {},
   "outputs": [],
   "source": [
    "from sklearn.model_selection import train_test_split\n",
    "X_train,X_test,y_train,y_test=train_test_split(X,y,random_state=0,test_size=0.25)"
   ]
  },
  {
   "cell_type": "code",
   "execution_count": 30,
   "id": "c32c1749-1d14-4b37-a1ca-e472b9dc6b26",
   "metadata": {},
   "outputs": [
    {
     "data": {
      "text/plain": [
       "(array([[0, 0, 0, ..., 0, 0, 0],\n",
       "        [0, 0, 0, ..., 0, 0, 0],\n",
       "        [0, 0, 0, ..., 0, 0, 0],\n",
       "        ...,\n",
       "        [0, 0, 0, ..., 0, 0, 0],\n",
       "        [0, 0, 0, ..., 0, 0, 0],\n",
       "        [0, 0, 0, ..., 0, 0, 0]]),\n",
       " array([0, 1, 1, ..., 1, 1, 0]))"
      ]
     },
     "execution_count": 30,
     "metadata": {},
     "output_type": "execute_result"
    }
   ],
   "source": [
    "X_train,y_train"
   ]
  },
  {
   "cell_type": "code",
   "execution_count": 33,
   "id": "643714e0-e882-44ea-8660-a22a4883d508",
   "metadata": {},
   "outputs": [],
   "source": [
    "from sklearn.naive_bayes import MultinomialNB\n",
    "model=MultinomialNB().fit(X_train,y_train)"
   ]
  },
  {
   "cell_type": "code",
   "execution_count": 34,
   "id": "7855065c-f33c-4124-bf7c-9eb7ee627c73",
   "metadata": {},
   "outputs": [],
   "source": [
    "y_pred=model.predict(X_test)"
   ]
  },
  {
   "cell_type": "code",
   "execution_count": 35,
   "id": "8151bc28-a2c1-422f-a4dd-793981ac5373",
   "metadata": {},
   "outputs": [
    {
     "name": "stdout",
     "output_type": "stream",
     "text": [
      "0.7862570994320455\n",
      "              precision    recall  f1-score   support\n",
      "\n",
      "           0       0.76      0.80      0.78      5934\n",
      "           1       0.81      0.77      0.79      6567\n",
      "\n",
      "    accuracy                           0.79     12501\n",
      "   macro avg       0.79      0.79      0.79     12501\n",
      "weighted avg       0.79      0.79      0.79     12501\n",
      "\n"
     ]
    }
   ],
   "source": [
    "from sklearn.metrics import accuracy_score, classification_report\n",
    "print(accuracy_score(y_pred,y_test))\n",
    "print(classification_report(y_pred,y_test))\n"
   ]
  },
  {
   "cell_type": "code",
   "execution_count": 56,
   "id": "69283709-340f-4ec5-98f1-dc1fc96d66a2",
   "metadata": {},
   "outputs": [],
   "source": [
    "from sklearn.feature_extraction.text import TfidfVectorizer\n",
    "tf=TfidfVectorizer(max_features=2500,ngram_range=(1,2))\n",
    "A=tf.fit_transform(corpus).toarray()"
   ]
  },
  {
   "cell_type": "code",
   "execution_count": 57,
   "id": "37789ebd-ecbc-43a1-b13e-ca1b8c345feb",
   "metadata": {},
   "outputs": [],
   "source": [
    "b=pd.get_dummies(messages['sentiment'],dtype=int)\n",
    "b=b.iloc[:,1].values"
   ]
  },
  {
   "cell_type": "code",
   "execution_count": 59,
   "id": "e94dbcc7-bec3-4312-8a94-a49d82f89357",
   "metadata": {},
   "outputs": [],
   "source": [
    "from sklearn.model_selection import train_test_split\n",
    "A_train,A_test,b_train,b_test=train_test_split(A,b,random_state=0,test_size=0.25)"
   ]
  },
  {
   "cell_type": "code",
   "execution_count": 60,
   "id": "eadb2d7d-c24d-47b5-8644-788e4c120be3",
   "metadata": {},
   "outputs": [
    {
     "data": {
      "text/plain": [
       "(array([[0., 0., 0., ..., 0., 0., 0.],\n",
       "        [0., 0., 0., ..., 0., 0., 0.],\n",
       "        [0., 0., 0., ..., 0., 0., 0.],\n",
       "        ...,\n",
       "        [0., 0., 0., ..., 0., 0., 0.],\n",
       "        [0., 0., 0., ..., 0., 0., 0.],\n",
       "        [0., 0., 0., ..., 0., 0., 0.]]),\n",
       " array([0, 1, 1, ..., 1, 1, 0]))"
      ]
     },
     "execution_count": 60,
     "metadata": {},
     "output_type": "execute_result"
    }
   ],
   "source": [
    "A_train,b_train"
   ]
  },
  {
   "cell_type": "code",
   "execution_count": 61,
   "id": "3234b897-f58b-4897-8909-e942636dcc2b",
   "metadata": {},
   "outputs": [],
   "source": [
    "model1=MultinomialNB().fit(A_train,b_train)"
   ]
  },
  {
   "cell_type": "code",
   "execution_count": 62,
   "id": "20238484-1783-49fd-b493-6a13e3315406",
   "metadata": {},
   "outputs": [],
   "source": [
    "b_pred=model1.predict(A_test)"
   ]
  },
  {
   "cell_type": "code",
   "execution_count": 63,
   "id": "dd9a1e68-017d-4bbe-878f-6e189c734291",
   "metadata": {},
   "outputs": [
    {
     "name": "stdout",
     "output_type": "stream",
     "text": [
      "0.8463322934165267\n",
      "              precision    recall  f1-score   support\n",
      "\n",
      "           0       0.83      0.86      0.84      6023\n",
      "           1       0.86      0.84      0.85      6478\n",
      "\n",
      "    accuracy                           0.85     12501\n",
      "   macro avg       0.85      0.85      0.85     12501\n",
      "weighted avg       0.85      0.85      0.85     12501\n",
      "\n"
     ]
    }
   ],
   "source": [
    "print(accuracy_score(b_pred,b_test))\n",
    "print(classification_report(b_pred,b_test))\n"
   ]
  },
  {
   "cell_type": "code",
   "execution_count": 64,
   "id": "6d15d884-ab11-4d31-8d62-66406c8f9176",
   "metadata": {},
   "outputs": [],
   "source": [
    "from sklearn.ensemble import RandomForestClassifier\n",
    "cf=RandomForestClassifier()"
   ]
  },
  {
   "cell_type": "code",
   "execution_count": 65,
   "id": "73ccfd1d-5b6b-40c5-b03a-112ea90e9492",
   "metadata": {},
   "outputs": [
    {
     "data": {
      "text/html": [
       "<style>#sk-container-id-1 {color: black;background-color: white;}#sk-container-id-1 pre{padding: 0;}#sk-container-id-1 div.sk-toggleable {background-color: white;}#sk-container-id-1 label.sk-toggleable__label {cursor: pointer;display: block;width: 100%;margin-bottom: 0;padding: 0.3em;box-sizing: border-box;text-align: center;}#sk-container-id-1 label.sk-toggleable__label-arrow:before {content: \"▸\";float: left;margin-right: 0.25em;color: #696969;}#sk-container-id-1 label.sk-toggleable__label-arrow:hover:before {color: black;}#sk-container-id-1 div.sk-estimator:hover label.sk-toggleable__label-arrow:before {color: black;}#sk-container-id-1 div.sk-toggleable__content {max-height: 0;max-width: 0;overflow: hidden;text-align: left;background-color: #f0f8ff;}#sk-container-id-1 div.sk-toggleable__content pre {margin: 0.2em;color: black;border-radius: 0.25em;background-color: #f0f8ff;}#sk-container-id-1 input.sk-toggleable__control:checked~div.sk-toggleable__content {max-height: 200px;max-width: 100%;overflow: auto;}#sk-container-id-1 input.sk-toggleable__control:checked~label.sk-toggleable__label-arrow:before {content: \"▾\";}#sk-container-id-1 div.sk-estimator input.sk-toggleable__control:checked~label.sk-toggleable__label {background-color: #d4ebff;}#sk-container-id-1 div.sk-label input.sk-toggleable__control:checked~label.sk-toggleable__label {background-color: #d4ebff;}#sk-container-id-1 input.sk-hidden--visually {border: 0;clip: rect(1px 1px 1px 1px);clip: rect(1px, 1px, 1px, 1px);height: 1px;margin: -1px;overflow: hidden;padding: 0;position: absolute;width: 1px;}#sk-container-id-1 div.sk-estimator {font-family: monospace;background-color: #f0f8ff;border: 1px dotted black;border-radius: 0.25em;box-sizing: border-box;margin-bottom: 0.5em;}#sk-container-id-1 div.sk-estimator:hover {background-color: #d4ebff;}#sk-container-id-1 div.sk-parallel-item::after {content: \"\";width: 100%;border-bottom: 1px solid gray;flex-grow: 1;}#sk-container-id-1 div.sk-label:hover label.sk-toggleable__label {background-color: #d4ebff;}#sk-container-id-1 div.sk-serial::before {content: \"\";position: absolute;border-left: 1px solid gray;box-sizing: border-box;top: 0;bottom: 0;left: 50%;z-index: 0;}#sk-container-id-1 div.sk-serial {display: flex;flex-direction: column;align-items: center;background-color: white;padding-right: 0.2em;padding-left: 0.2em;position: relative;}#sk-container-id-1 div.sk-item {position: relative;z-index: 1;}#sk-container-id-1 div.sk-parallel {display: flex;align-items: stretch;justify-content: center;background-color: white;position: relative;}#sk-container-id-1 div.sk-item::before, #sk-container-id-1 div.sk-parallel-item::before {content: \"\";position: absolute;border-left: 1px solid gray;box-sizing: border-box;top: 0;bottom: 0;left: 50%;z-index: -1;}#sk-container-id-1 div.sk-parallel-item {display: flex;flex-direction: column;z-index: 1;position: relative;background-color: white;}#sk-container-id-1 div.sk-parallel-item:first-child::after {align-self: flex-end;width: 50%;}#sk-container-id-1 div.sk-parallel-item:last-child::after {align-self: flex-start;width: 50%;}#sk-container-id-1 div.sk-parallel-item:only-child::after {width: 0;}#sk-container-id-1 div.sk-dashed-wrapped {border: 1px dashed gray;margin: 0 0.4em 0.5em 0.4em;box-sizing: border-box;padding-bottom: 0.4em;background-color: white;}#sk-container-id-1 div.sk-label label {font-family: monospace;font-weight: bold;display: inline-block;line-height: 1.2em;}#sk-container-id-1 div.sk-label-container {text-align: center;}#sk-container-id-1 div.sk-container {/* jupyter's `normalize.less` sets `[hidden] { display: none; }` but bootstrap.min.css set `[hidden] { display: none !important; }` so we also need the `!important` here to be able to override the default hidden behavior on the sphinx rendered scikit-learn.org. See: https://github.com/scikit-learn/scikit-learn/issues/21755 */display: inline-block !important;position: relative;}#sk-container-id-1 div.sk-text-repr-fallback {display: none;}</style><div id=\"sk-container-id-1\" class=\"sk-top-container\"><div class=\"sk-text-repr-fallback\"><pre>RandomForestClassifier()</pre><b>In a Jupyter environment, please rerun this cell to show the HTML representation or trust the notebook. <br />On GitHub, the HTML representation is unable to render, please try loading this page with nbviewer.org.</b></div><div class=\"sk-container\" hidden><div class=\"sk-item\"><div class=\"sk-estimator sk-toggleable\"><input class=\"sk-toggleable__control sk-hidden--visually\" id=\"sk-estimator-id-1\" type=\"checkbox\" checked><label for=\"sk-estimator-id-1\" class=\"sk-toggleable__label sk-toggleable__label-arrow\">RandomForestClassifier</label><div class=\"sk-toggleable__content\"><pre>RandomForestClassifier()</pre></div></div></div></div></div>"
      ],
      "text/plain": [
       "RandomForestClassifier()"
      ]
     },
     "execution_count": 65,
     "metadata": {},
     "output_type": "execute_result"
    }
   ],
   "source": [
    "cf.fit(A_train,b_train)"
   ]
  },
  {
   "cell_type": "code",
   "execution_count": 66,
   "id": "10230b18-4f7e-440a-ae9d-c5ae91590a85",
   "metadata": {},
   "outputs": [],
   "source": [
    "b_pred=cf.predict(A_test)"
   ]
  },
  {
   "cell_type": "code",
   "execution_count": 67,
   "id": "ab24ad94-551c-4501-8288-d6adce3ab41a",
   "metadata": {},
   "outputs": [
    {
     "name": "stdout",
     "output_type": "stream",
     "text": [
      "Random Forest 0.8424126069914407\n",
      "              precision    recall  f1-score   support\n",
      "\n",
      "           0       0.85      0.84      0.84      6334\n",
      "           1       0.83      0.85      0.84      6167\n",
      "\n",
      "    accuracy                           0.84     12501\n",
      "   macro avg       0.84      0.84      0.84     12501\n",
      "weighted avg       0.84      0.84      0.84     12501\n",
      "\n"
     ]
    }
   ],
   "source": [
    "print(\"Random Forest\",accuracy_score(b_pred,b_test))\n",
    "print(classification_report(b_pred,b_test))\n"
   ]
  },
  {
   "cell_type": "code",
   "execution_count": 68,
   "id": "41ae8925-6029-48b5-89b1-ff04d3157dde",
   "metadata": {},
   "outputs": [
    {
     "name": "stdout",
     "output_type": "stream",
     "text": [
      "Requirement already satisfied: gensim in /opt/homebrew/lib/python3.11/site-packages (4.3.2)\n",
      "Requirement already satisfied: numpy>=1.18.5 in /opt/homebrew/lib/python3.11/site-packages (from gensim) (1.26.2)\n",
      "Requirement already satisfied: scipy>=1.7.0 in /opt/homebrew/lib/python3.11/site-packages (from gensim) (1.11.3)\n",
      "Requirement already satisfied: smart-open>=1.8.1 in /opt/homebrew/lib/python3.11/site-packages (from gensim) (7.0.4)\n",
      "Requirement already satisfied: wrapt in /opt/homebrew/lib/python3.11/site-packages (from smart-open>=1.8.1->gensim) (1.16.0)\n"
     ]
    }
   ],
   "source": [
    "#Now doing it with your own Word-2Vec model\n",
    "!pip install gensim"
   ]
  },
  {
   "cell_type": "code",
   "execution_count": 69,
   "id": "6904f1c8-2671-4f60-be17-d5b4f24181ff",
   "metadata": {},
   "outputs": [],
   "source": [
    "from nltk import sent_tokenize\n",
    "from gensim.utils import simple_preprocess\n"
   ]
  },
  {
   "cell_type": "code",
   "execution_count": 70,
   "id": "a203df9d-2984-4fa4-9588-e28ed8cb9136",
   "metadata": {},
   "outputs": [],
   "source": [
    "words=[]\n",
    "for sent in corpus:\n",
    "    sent_token=sent_tokenize(sent)\n",
    "    for sent in sent_token:\n",
    "        words.append(simple_preprocess(sent))"
   ]
  },
  {
   "cell_type": "code",
   "execution_count": 77,
   "id": "20dcb169-97d6-480e-b275-7a7f6d36c162",
   "metadata": {},
   "outputs": [],
   "source": [
    "import gensim"
   ]
  },
  {
   "cell_type": "code",
   "execution_count": 78,
   "id": "4f0109ae-802f-41a0-876c-77cde682110f",
   "metadata": {},
   "outputs": [],
   "source": [
    "models=gensim.models.Word2Vec(words,window=5,min_count=2)"
   ]
  },
  {
   "cell_type": "code",
   "execution_count": 81,
   "id": "59129229-0c2d-461e-951b-6feb274d6ac7",
   "metadata": {},
   "outputs": [
    {
     "data": {
      "text/plain": [
       "[('suspens', 0.5560059547424316),\n",
       " ('fight', 0.5543193817138672),\n",
       " ('dramat', 0.5140547752380371),\n",
       " ('pace', 0.48967012763023376),\n",
       " ('gori', 0.48706570267677307),\n",
       " ('heist', 0.4847753942012787),\n",
       " ('tens', 0.47410231828689575),\n",
       " ('thrill', 0.46656185388565063),\n",
       " ('gore', 0.4608564078807831),\n",
       " ('tension', 0.4562355875968933)]"
      ]
     },
     "execution_count": 81,
     "metadata": {},
     "output_type": "execute_result"
    }
   ],
   "source": [
    "#Computed with cosine similarity, closer to 1 means most similar\n",
    "models.wv.similar_by_word('action')"
   ]
  },
  {
   "cell_type": "code",
   "execution_count": 82,
   "id": "7eaf5c09-0535-4041-9bb1-907109a2c778",
   "metadata": {},
   "outputs": [],
   "source": [
    "import numpy as np"
   ]
  },
  {
   "cell_type": "code",
   "execution_count": 83,
   "id": "d2bbaeee-a14f-4b47-b79d-0d35b0e5d7af",
   "metadata": {},
   "outputs": [],
   "source": [
    "def avg_word2vec(doc):\n",
    "    return np.mean([models.wv[word] for word in doc if word in models.wv.index_to_key],axis=0)"
   ]
  },
  {
   "cell_type": "code",
   "execution_count": 85,
   "id": "b46c338c-a2ed-416c-98ef-799adb01566b",
   "metadata": {},
   "outputs": [
    {
     "name": "stdout",
     "output_type": "stream",
     "text": [
      "Requirement already satisfied: tqdm in /opt/homebrew/lib/python3.11/site-packages (4.66.1)\n"
     ]
    }
   ],
   "source": [
    "!pip install tqdm"
   ]
  },
  {
   "cell_type": "code",
   "execution_count": 86,
   "id": "ac4d63d9-ecba-45f6-a8f0-45e6e1b1667f",
   "metadata": {},
   "outputs": [],
   "source": [
    "from tqdm import tqdm"
   ]
  },
  {
   "cell_type": "code",
   "execution_count": 88,
   "id": "1d6571a9-eabf-4402-87be-f6024eb6532a",
   "metadata": {},
   "outputs": [
    {
     "name": "stderr",
     "output_type": "stream",
     "text": [
      "100%|████████████████████████████████████| 50001/50001 [01:46<00:00, 468.19it/s]\n"
     ]
    }
   ],
   "source": [
    "X=[]\n",
    "for i in tqdm(range(len(words))):\n",
    "    X.append(avg_word2vec(words[i]))\n",
    "    "
   ]
  },
  {
   "cell_type": "code",
   "execution_count": 89,
   "id": "12272d1e-7354-41d0-b90a-1ca6937cef19",
   "metadata": {},
   "outputs": [
    {
     "data": {
      "text/plain": [
       "list"
      ]
     },
     "execution_count": 89,
     "metadata": {},
     "output_type": "execute_result"
    }
   ],
   "source": [
    "type(X)"
   ]
  },
  {
   "cell_type": "code",
   "execution_count": 90,
   "id": "64dd58ef-eadc-4909-97ae-470297c3abc0",
   "metadata": {},
   "outputs": [],
   "source": [
    "X_new=np.array(X)"
   ]
  },
  {
   "cell_type": "code",
   "execution_count": 91,
   "id": "33df8c9d-c435-4e23-9007-ef43cbcd3280",
   "metadata": {},
   "outputs": [
    {
     "data": {
      "text/plain": [
       "array([ 0.697471  ,  0.25811028, -0.23136681,  0.02151822, -0.1985191 ,\n",
       "       -0.0675873 ,  0.2970444 , -0.04757069, -0.41342312,  0.19906022,\n",
       "        0.68235236,  0.6132807 , -0.16784549,  0.44443858, -0.17382938,\n",
       "        0.31310156,  0.29759577,  0.2051022 , -0.45551652, -0.81347007,\n",
       "        0.07428182,  0.23729672,  0.43566763,  0.2401548 ,  0.18756443,\n",
       "       -0.02043974, -0.47121465, -0.31881782,  0.19318058,  0.02939977,\n",
       "       -0.30255312,  0.23965389,  0.40264133, -0.27470312, -0.11212132,\n",
       "        0.03157189,  0.25323877, -0.45072004, -0.28427318, -0.17987029,\n",
       "        0.07161406,  0.05314956,  0.1201514 , -0.13248716,  0.06088365,\n",
       "        0.38455245, -0.45822343, -0.07228225,  0.03497584,  0.05671017,\n",
       "       -0.78109974,  0.5457158 ,  0.07278495, -0.6740215 ,  0.62952363,\n",
       "       -0.47215036, -0.08786225,  0.03973249, -0.124457  ,  0.06486946,\n",
       "        0.46781605, -0.6158219 , -0.11731587, -0.4557278 , -0.24794905,\n",
       "        0.03788794,  0.20369343,  0.58233714,  0.20491543,  0.23159415,\n",
       "        0.41148502, -0.07464775, -0.23635511, -0.07841787, -0.19017872,\n",
       "       -0.13292357,  0.49913707,  0.3784097 , -0.34129155,  0.2993426 ,\n",
       "       -0.01323039,  0.09435009, -0.33757767,  0.6063862 , -0.27485287,\n",
       "        0.0710512 ,  0.03829447,  0.2582653 ,  0.15487857,  0.05530678,\n",
       "       -0.427269  , -0.18246949,  0.19714792, -0.08534876,  0.2548511 ,\n",
       "       -0.1585663 ,  0.07480656,  0.05730397,  0.09648477,  0.01979902],\n",
       "      dtype=float32)"
      ]
     },
     "execution_count": 91,
     "metadata": {},
     "output_type": "execute_result"
    }
   ],
   "source": [
    "X_new[5]"
   ]
  },
  {
   "cell_type": "code",
   "execution_count": 93,
   "id": "fae3e697-5d01-42ab-95b7-0338dc0ff48d",
   "metadata": {},
   "outputs": [],
   "source": [
    "#train test split\n",
    "X_train,X_test,y_train,y_test=train_test_split(X_new,y,test_size=0.25,random_state=0)"
   ]
  },
  {
   "cell_type": "code",
   "execution_count": 94,
   "id": "5e6c1b7a-fa65-4491-9687-6c070cbf3c97",
   "metadata": {},
   "outputs": [
    {
     "data": {
      "text/plain": [
       "(array([[ 0.68491167,  0.30583858, -0.53512377, ...,  0.00288718,\n",
       "          0.11056052,  0.46941945],\n",
       "        [ 0.5120286 ,  0.4306038 , -0.23731719, ..., -0.04037752,\n",
       "         -0.02617848,  0.41945928],\n",
       "        [ 0.39555386,  0.1259601 , -0.31451383, ...,  0.27356488,\n",
       "         -0.00787782,  0.5645078 ],\n",
       "        ...,\n",
       "        [ 0.90204525,  0.55935967, -0.36278   , ...,  0.19348133,\n",
       "          0.18692282,  0.8573418 ],\n",
       "        [ 0.4069974 ,  0.3723077 ,  0.10636804, ...,  0.16671117,\n",
       "          0.08133376,  0.3913527 ],\n",
       "        [ 0.23447193,  0.24421975, -0.20157489, ..., -0.40994626,\n",
       "         -0.21702594,  0.46301463]], dtype=float32),\n",
       " array([0, 1, 1, ..., 1, 1, 0]))"
      ]
     },
     "execution_count": 94,
     "metadata": {},
     "output_type": "execute_result"
    }
   ],
   "source": [
    "X_train,y_train"
   ]
  },
  {
   "cell_type": "code",
   "execution_count": 96,
   "id": "686d3d85-f8ca-4782-a76a-c3f3b0451640",
   "metadata": {},
   "outputs": [],
   "source": [
    "model3=cf.fit(X_train,y_train)"
   ]
  },
  {
   "cell_type": "code",
   "execution_count": null,
   "id": "d553eda3-1a28-43ef-a87e-4ee10acf088b",
   "metadata": {},
   "outputs": [],
   "source": [
    "y_pred=model3.predict(X_test)"
   ]
  },
  {
   "cell_type": "code",
   "execution_count": 98,
   "id": "c3e2c692-320b-46c0-a5b5-0d8cdc40a3a3",
   "metadata": {},
   "outputs": [
    {
     "name": "stdout",
     "output_type": "stream",
     "text": [
      "Accuracy with Random Forest for  Avg word2vec FeatureRepresentation for IMDB Dataset 0.7862570994320455\n",
      "              precision    recall  f1-score   support\n",
      "\n",
      "           0       0.76      0.80      0.78      5934\n",
      "           1       0.81      0.77      0.79      6567\n",
      "\n",
      "    accuracy                           0.79     12501\n",
      "   macro avg       0.79      0.79      0.79     12501\n",
      "weighted avg       0.79      0.79      0.79     12501\n",
      "\n"
     ]
    }
   ],
   "source": [
    "print(\"Accuracy with Random Forest for  Avg word2vec FeatureRepresentation for IMDB Dataset\",accuracy_score(y_pred,y_test))\n",
    "print(classification_report(y_pred,y_test))"
   ]
  },
  {
   "cell_type": "code",
   "execution_count": null,
   "id": "a4dd7467-7940-44bc-b2fa-0ecb908cab93",
   "metadata": {},
   "outputs": [],
   "source": []
  }
 ],
 "metadata": {
  "kernelspec": {
   "display_name": "Python 3 (ipykernel)",
   "language": "python",
   "name": "python3"
  },
  "language_info": {
   "codemirror_mode": {
    "name": "ipython",
    "version": 3
   },
   "file_extension": ".py",
   "mimetype": "text/x-python",
   "name": "python",
   "nbconvert_exporter": "python",
   "pygments_lexer": "ipython3",
   "version": "3.11.7"
  }
 },
 "nbformat": 4,
 "nbformat_minor": 5
}
