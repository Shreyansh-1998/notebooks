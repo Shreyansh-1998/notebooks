{
 "cells": [
  {
   "cell_type": "code",
   "execution_count": 40,
   "id": "a7093a64-53cf-4bb3-a35e-f4f2ef85a68e",
   "metadata": {},
   "outputs": [
    {
     "name": "stdout",
     "output_type": "stream",
     "text": [
      "Requirement already satisfied: nltk in /opt/homebrew/lib/python3.11/site-packages (3.8.1)\n",
      "Requirement already satisfied: click in /opt/homebrew/lib/python3.11/site-packages (from nltk) (8.1.7)\n",
      "Requirement already satisfied: joblib in /opt/homebrew/lib/python3.11/site-packages (from nltk) (1.2.0)\n",
      "Requirement already satisfied: regex>=2021.8.3 in /opt/homebrew/lib/python3.11/site-packages (from nltk) (2023.12.25)\n",
      "Requirement already satisfied: tqdm in /opt/homebrew/lib/python3.11/site-packages (from nltk) (4.66.1)\n"
     ]
    }
   ],
   "source": [
    "!pip install nltk"
   ]
  },
  {
   "cell_type": "code",
   "execution_count": 6,
   "id": "e6fac2e5-bf98-4bde-94c2-94a59e9100cd",
   "metadata": {},
   "outputs": [],
   "source": [
    "paragraph = \"\"\"\n",
    "Modi was born and raised in Vadnagar in northeastern Gujarat, where he completed his secondary education. He was introduced to the RSS at the age of eight. His account of helping his father sell tea at the Vadnagar railway station has not been reliably corroborated. At age 18, he was married to Jashodaben Modi, whom he abandoned soon after, only publicly acknowledging her four decades later when legally required to do so. Modi became a full-time worker for the RSS in Gujarat in 1971. The RSS assigned him to the BJP in 1985 and he held several positions within the party hierarchy until 2001, rising to the rank of general secretary.[c]\n",
    "\n",
    "In 2001, Modi was appointed Chief Minister of Gujarat and elected to the legislative assembly soon after. His administration is considered complicit in the 2002 Gujarat riots,[d] and has been criticised for its management of the crisis. A little over 1,000 people were killed, according to official records, three-quarters of whom were Muslim; independent sources estimated 2,000 deaths, mostly Muslim.[11] A Special Investigation Team appointed by the Supreme Court of India in 2012 found no evidence to initiate prosecution proceedings against him.[e] While his policies as chief minister, which were credited for encouraging economic growth, were praised, Modi's administration was criticised for failing to significantly improve health, poverty and education indices in the state.[f] In the 2014 Indian general election, Modi led the BJP to a parliamentary majority, the first for a party since 1984. His administration increased direct foreign investment, and it reduced spending on healthcare, education, and social-welfare programmes. Modi began a high-profile sanitation campaign, controversially initiated the 2016 demonetisation of high-denomination banknotes and introduced the Goods and Services Tax, and weakened or abolished environmental and labour laws.\n",
    "\"\"\"\n"
   ]
  },
  {
   "cell_type": "code",
   "execution_count": 5,
   "id": "530db7d7-5124-4897-adfd-3b84bc669680",
   "metadata": {},
   "outputs": [
    {
     "data": {
      "text/plain": [
       "\"Modi was born and raised in Vadnagar in northeastern Gujarat, where he completed his secondary education. He was introduced to the RSS at the age of eight. His account of helping his father sell tea at the Vadnagar railway station has not been reliably corroborated. At age 18, he was married to Jashodaben Modi, whom he abandoned soon after, only publicly acknowledging her four decades later when legally required to do so. Modi became a full-time worker for the RSS in Gujarat in 1971. The RSS assigned him to the BJP in 1985 and he held several positions within the party hierarchy until 2001, rising to the rank of general secretary.[c]\\n\\nIn 2001, Modi was appointed Chief Minister of Gujarat and elected to the legislative assembly soon after. His administration is considered complicit in the 2002 Gujarat riots,[d] and has been criticised for its management of the crisis. A little over 1,000 people were killed, according to official records, three-quarters of whom were Muslim; independent sources estimated 2,000 deaths, mostly Muslim.[11] A Special Investigation Team appointed by the Supreme Court of India in 2012 found no evidence to initiate prosecution proceedings against him.[e] While his policies as chief minister, which were credited for encouraging economic growth, were praised, Modi's administration was criticised for failing to significantly improve health, poverty and education indices in the state.[f] In the 2014 Indian general election, Modi led the BJP to a parliamentary majority, the first for a party since 1984. His administration increased direct foreign investment, and it reduced spending on healthcare, education, and social-welfare programmes. Modi began a high-profile sanitation campaign, controversially initiated the 2016 demonetisation of high-denomination banknotes and introduced the Goods and Services Tax, and weakened or abolished environmental and labour laws. \""
      ]
     },
     "execution_count": 5,
     "metadata": {},
     "output_type": "execute_result"
    }
   ],
   "source": [
    "paragraph"
   ]
  },
  {
   "cell_type": "code",
   "execution_count": 7,
   "id": "61fbcdc6-011a-49e9-ab9d-1f26ad465944",
   "metadata": {},
   "outputs": [],
   "source": [
    "import nltk\n",
    "from nltk.stem import PorterStemmer\n",
    "from nltk.corpus import stopwords"
   ]
  },
  {
   "cell_type": "code",
   "execution_count": 9,
   "id": "093b41e1-a083-43cd-a602-e560fc800381",
   "metadata": {},
   "outputs": [
    {
     "name": "stderr",
     "output_type": "stream",
     "text": [
      "[nltk_data] Downloading package punkt to /Users/shrey_98/nltk_data...\n",
      "[nltk_data]   Package punkt is already up-to-date!\n"
     ]
    }
   ],
   "source": [
    "## Tokenization --to convert paragraphs-sentences-words\n",
    "nltk.download('punkt')\n",
    "sentences= nltk.sent_tokenize(paragraph)"
   ]
  },
  {
   "cell_type": "code",
   "execution_count": 10,
   "id": "f453ac35-c047-458e-8e33-a77ea9f12e46",
   "metadata": {},
   "outputs": [
    {
     "name": "stdout",
     "output_type": "stream",
     "text": [
      "['\\nModi was born and raised in Vadnagar in northeastern Gujarat, where he completed his secondary education.', 'He was introduced to the RSS at the age of eight.', 'His account of helping his father sell tea at the Vadnagar railway station has not been reliably corroborated.', 'At age 18, he was married to Jashodaben Modi, whom he abandoned soon after, only publicly acknowledging her four decades later when legally required to do so.', 'Modi became a full-time worker for the RSS in Gujarat in 1971.', 'The RSS assigned him to the BJP in 1985 and he held several positions within the party hierarchy until 2001, rising to the rank of general secretary.', '[c]\\n\\nIn 2001, Modi was appointed Chief Minister of Gujarat and elected to the legislative assembly soon after.', 'His administration is considered complicit in the 2002 Gujarat riots,[d] and has been criticised for its management of the crisis.', 'A little over 1,000 people were killed, according to official records, three-quarters of whom were Muslim; independent sources estimated 2,000 deaths, mostly Muslim.', '[11] A Special Investigation Team appointed by the Supreme Court of India in 2012 found no evidence to initiate prosecution proceedings against him.', \"[e] While his policies as chief minister, which were credited for encouraging economic growth, were praised, Modi's administration was criticised for failing to significantly improve health, poverty and education indices in the state.\", '[f] In the 2014 Indian general election, Modi led the BJP to a parliamentary majority, the first for a party since 1984.', 'His administration increased direct foreign investment, and it reduced spending on healthcare, education, and social-welfare programmes.', 'Modi began a high-profile sanitation campaign, controversially initiated the 2016 demonetisation of high-denomination banknotes and introduced the Goods and Services Tax, and weakened or abolished environmental and labour laws.']\n"
     ]
    }
   ],
   "source": [
    "print(sentences)"
   ]
  },
  {
   "cell_type": "code",
   "execution_count": 11,
   "id": "8ccac7f1-2a6c-4e91-a470-03cdfc361a49",
   "metadata": {},
   "outputs": [
    {
     "data": {
      "text/plain": [
       "list"
      ]
     },
     "execution_count": 11,
     "metadata": {},
     "output_type": "execute_result"
    }
   ],
   "source": [
    "type(sentences)"
   ]
  },
  {
   "cell_type": "code",
   "execution_count": 12,
   "id": "aa61fd38-c6c0-4056-9533-03fc9c175029",
   "metadata": {},
   "outputs": [],
   "source": [
    "stemmer=PorterStemmer()"
   ]
  },
  {
   "cell_type": "code",
   "execution_count": 22,
   "id": "5127531e-589b-4301-8ab5-92656305b30c",
   "metadata": {},
   "outputs": [
    {
     "data": {
      "text/plain": [
       "'drink'"
      ]
     },
     "execution_count": 22,
     "metadata": {},
     "output_type": "execute_result"
    }
   ],
   "source": [
    "stemmer.stem('drinking')"
   ]
  },
  {
   "cell_type": "code",
   "execution_count": 29,
   "id": "21fab2d6-690b-412a-abc5-d34aa7c749b9",
   "metadata": {},
   "outputs": [
    {
     "name": "stderr",
     "output_type": "stream",
     "text": [
      "[nltk_data] Downloading package wordnet to\n",
      "[nltk_data]     /Users/shrey_98/nltk_data...\n"
     ]
    },
    {
     "data": {
      "text/plain": [
       "'drinking'"
      ]
     },
     "execution_count": 29,
     "metadata": {},
     "output_type": "execute_result"
    }
   ],
   "source": [
    "from nltk.stem import WordNetLemmatizer\n",
    "nltk.download('wordnet')\n",
    "lemmatizer=WordNetLemmatizer()\n",
    "lemmatizer.lemmatize('drinking')"
   ]
  },
  {
   "cell_type": "code",
   "execution_count": 30,
   "id": "733a9dca-82d2-445e-8d1a-d9b15b5dd72b",
   "metadata": {},
   "outputs": [
    {
     "data": {
      "text/plain": [
       "'go'"
      ]
     },
     "execution_count": 30,
     "metadata": {},
     "output_type": "execute_result"
    }
   ],
   "source": [
    "lemmatizer.lemmatize(\"goes\")"
   ]
  },
  {
   "cell_type": "code",
   "execution_count": 33,
   "id": "a69fe1ec-0b38-4b4f-8f80-fe9b2ad1fafb",
   "metadata": {},
   "outputs": [
    {
     "data": {
      "text/plain": [
       "14"
      ]
     },
     "execution_count": 33,
     "metadata": {},
     "output_type": "execute_result"
    }
   ],
   "source": [
    "len(sentences)"
   ]
  },
  {
   "cell_type": "code",
   "execution_count": 34,
   "id": "76e3c2b2-99e3-4dea-8559-ce0024542a03",
   "metadata": {},
   "outputs": [],
   "source": [
    "import re"
   ]
  },
  {
   "cell_type": "code",
   "execution_count": 37,
   "id": "e547e30d-a478-4d3f-9b16-1e434ec04cd7",
   "metadata": {},
   "outputs": [],
   "source": [
    "corpus=[]\n",
    "for i in range(len(sentences)):\n",
    "    review=re.sub('[^a-zA-Z]',' ',sentences[i])\n",
    "    review=review.lower()\n",
    "    corpus.append(review)\n",
    "    "
   ]
  },
  {
   "cell_type": "code",
   "execution_count": 38,
   "id": "f09c4394-42b2-4263-b64a-7e895385140d",
   "metadata": {},
   "outputs": [
    {
     "data": {
      "text/plain": [
       "[' modi was born and raised in vadnagar in northeastern gujarat  where he completed his secondary education ',\n",
       " 'he was introduced to the rss at the age of eight ',\n",
       " 'his account of helping his father sell tea at the vadnagar railway station has not been reliably corroborated ',\n",
       " 'at age     he was married to jashodaben modi  whom he abandoned soon after  only publicly acknowledging her four decades later when legally required to do so ',\n",
       " 'modi became a full time worker for the rss in gujarat in      ',\n",
       " 'the rss assigned him to the bjp in      and he held several positions within the party hierarchy until       rising to the rank of general secretary ',\n",
       " ' c   in       modi was appointed chief minister of gujarat and elected to the legislative assembly soon after ',\n",
       " 'his administration is considered complicit in the      gujarat riots  d  and has been criticised for its management of the crisis ',\n",
       " 'a little over       people were killed  according to official records  three quarters of whom were muslim  independent sources estimated       deaths  mostly muslim ',\n",
       " '     a special investigation team appointed by the supreme court of india in      found no evidence to initiate prosecution proceedings against him ',\n",
       " ' e  while his policies as chief minister  which were credited for encouraging economic growth  were praised  modi s administration was criticised for failing to significantly improve health  poverty and education indices in the state ',\n",
       " ' f  in the      indian general election  modi led the bjp to a parliamentary majority  the first for a party since      ',\n",
       " 'his administration increased direct foreign investment  and it reduced spending on healthcare  education  and social welfare programmes ',\n",
       " 'modi began a high profile sanitation campaign  controversially initiated the      demonetisation of high denomination banknotes and introduced the goods and services tax  and weakened or abolished environmental and labour laws ']"
      ]
     },
     "execution_count": 38,
     "metadata": {},
     "output_type": "execute_result"
    }
   ],
   "source": [
    "corpus"
   ]
  },
  {
   "cell_type": "code",
   "execution_count": 43,
   "id": "52e31316-5b31-4ec3-a2cb-97879139680a",
   "metadata": {},
   "outputs": [
    {
     "name": "stderr",
     "output_type": "stream",
     "text": [
      "[nltk_data] Downloading package stopwords to\n",
      "[nltk_data]     /Users/shrey_98/nltk_data...\n",
      "[nltk_data]   Unzipping corpora/stopwords.zip.\n"
     ]
    },
    {
     "data": {
      "text/plain": [
       "True"
      ]
     },
     "execution_count": 43,
     "metadata": {},
     "output_type": "execute_result"
    }
   ],
   "source": [
    "nltk.download('stopwords')"
   ]
  },
  {
   "cell_type": "code",
   "execution_count": 44,
   "id": "bfcd5d97-1733-4e3d-93de-96b7a14598d8",
   "metadata": {},
   "outputs": [
    {
     "name": "stdout",
     "output_type": "stream",
     "text": [
      "modi\n",
      "born\n",
      "rais\n",
      "vadnagar\n",
      "northeastern\n",
      "gujarat\n",
      "complet\n",
      "secondari\n",
      "educ\n",
      "introduc\n",
      "rss\n",
      "age\n",
      "eight\n",
      "account\n",
      "help\n",
      "father\n",
      "sell\n",
      "tea\n",
      "vadnagar\n",
      "railway\n",
      "station\n",
      "reliabl\n",
      "corrobor\n",
      "age\n",
      "marri\n",
      "jashodaben\n",
      "modi\n",
      "abandon\n",
      "soon\n",
      "publicli\n",
      "acknowledg\n",
      "four\n",
      "decad\n",
      "later\n",
      "legal\n",
      "requir\n",
      "modi\n",
      "becam\n",
      "full\n",
      "time\n",
      "worker\n",
      "rss\n",
      "gujarat\n",
      "rss\n",
      "assign\n",
      "bjp\n",
      "held\n",
      "sever\n",
      "posit\n",
      "within\n",
      "parti\n",
      "hierarchi\n",
      "rise\n",
      "rank\n",
      "gener\n",
      "secretari\n",
      "c\n",
      "modi\n",
      "appoint\n",
      "chief\n",
      "minist\n",
      "gujarat\n",
      "elect\n",
      "legisl\n",
      "assembl\n",
      "soon\n",
      "administr\n",
      "consid\n",
      "complicit\n",
      "gujarat\n",
      "riot\n",
      "criticis\n",
      "manag\n",
      "crisi\n",
      "littl\n",
      "peopl\n",
      "kill\n",
      "accord\n",
      "offici\n",
      "record\n",
      "three\n",
      "quarter\n",
      "muslim\n",
      "independ\n",
      "sourc\n",
      "estim\n",
      "death\n",
      "mostli\n",
      "muslim\n",
      "special\n",
      "investig\n",
      "team\n",
      "appoint\n",
      "suprem\n",
      "court\n",
      "india\n",
      "found\n",
      "evid\n",
      "initi\n",
      "prosecut\n",
      "proceed\n",
      "e\n",
      "polici\n",
      "chief\n",
      "minist\n",
      "credit\n",
      "encourag\n",
      "econom\n",
      "growth\n",
      "prais\n",
      "modi\n",
      "administr\n",
      "criticis\n",
      "fail\n",
      "significantli\n",
      "improv\n",
      "health\n",
      "poverti\n",
      "educ\n",
      "indic\n",
      "state\n",
      "f\n",
      "indian\n",
      "gener\n",
      "elect\n",
      "modi\n",
      "led\n",
      "bjp\n",
      "parliamentari\n",
      "major\n",
      "first\n",
      "parti\n",
      "sinc\n",
      "administr\n",
      "increas\n",
      "direct\n",
      "foreign\n",
      "invest\n",
      "reduc\n",
      "spend\n",
      "healthcar\n",
      "educ\n",
      "social\n",
      "welfar\n",
      "programm\n",
      "modi\n",
      "began\n",
      "high\n",
      "profil\n",
      "sanit\n",
      "campaign\n",
      "controversi\n",
      "initi\n",
      "demonetis\n",
      "high\n",
      "denomin\n",
      "banknot\n",
      "introduc\n",
      "good\n",
      "servic\n",
      "tax\n",
      "weaken\n",
      "abolish\n",
      "environment\n",
      "labour\n",
      "law\n"
     ]
    }
   ],
   "source": [
    "##stemming\n",
    "for i in corpus:\n",
    "    words=nltk.word_tokenize(i)\n",
    "    for word in words:\n",
    "        if word not in set(stopwords.words('english')):\n",
    "            print(stemmer.stem(word))"
   ]
  },
  {
   "cell_type": "code",
   "execution_count": 46,
   "id": "eb92ee22-50d8-42b1-8c6b-6576127e16ea",
   "metadata": {},
   "outputs": [
    {
     "data": {
      "text/plain": [
       "['i',\n",
       " 'me',\n",
       " 'my',\n",
       " 'myself',\n",
       " 'we',\n",
       " 'our',\n",
       " 'ours',\n",
       " 'ourselves',\n",
       " 'you',\n",
       " \"you're\",\n",
       " \"you've\",\n",
       " \"you'll\",\n",
       " \"you'd\",\n",
       " 'your',\n",
       " 'yours',\n",
       " 'yourself',\n",
       " 'yourselves',\n",
       " 'he',\n",
       " 'him',\n",
       " 'his',\n",
       " 'himself',\n",
       " 'she',\n",
       " \"she's\",\n",
       " 'her',\n",
       " 'hers',\n",
       " 'herself',\n",
       " 'it',\n",
       " \"it's\",\n",
       " 'its',\n",
       " 'itself',\n",
       " 'they',\n",
       " 'them',\n",
       " 'their',\n",
       " 'theirs',\n",
       " 'themselves',\n",
       " 'what',\n",
       " 'which',\n",
       " 'who',\n",
       " 'whom',\n",
       " 'this',\n",
       " 'that',\n",
       " \"that'll\",\n",
       " 'these',\n",
       " 'those',\n",
       " 'am',\n",
       " 'is',\n",
       " 'are',\n",
       " 'was',\n",
       " 'were',\n",
       " 'be',\n",
       " 'been',\n",
       " 'being',\n",
       " 'have',\n",
       " 'has',\n",
       " 'had',\n",
       " 'having',\n",
       " 'do',\n",
       " 'does',\n",
       " 'did',\n",
       " 'doing',\n",
       " 'a',\n",
       " 'an',\n",
       " 'the',\n",
       " 'and',\n",
       " 'but',\n",
       " 'if',\n",
       " 'or',\n",
       " 'because',\n",
       " 'as',\n",
       " 'until',\n",
       " 'while',\n",
       " 'of',\n",
       " 'at',\n",
       " 'by',\n",
       " 'for',\n",
       " 'with',\n",
       " 'about',\n",
       " 'against',\n",
       " 'between',\n",
       " 'into',\n",
       " 'through',\n",
       " 'during',\n",
       " 'before',\n",
       " 'after',\n",
       " 'above',\n",
       " 'below',\n",
       " 'to',\n",
       " 'from',\n",
       " 'up',\n",
       " 'down',\n",
       " 'in',\n",
       " 'out',\n",
       " 'on',\n",
       " 'off',\n",
       " 'over',\n",
       " 'under',\n",
       " 'again',\n",
       " 'further',\n",
       " 'then',\n",
       " 'once',\n",
       " 'here',\n",
       " 'there',\n",
       " 'when',\n",
       " 'where',\n",
       " 'why',\n",
       " 'how',\n",
       " 'all',\n",
       " 'any',\n",
       " 'both',\n",
       " 'each',\n",
       " 'few',\n",
       " 'more',\n",
       " 'most',\n",
       " 'other',\n",
       " 'some',\n",
       " 'such',\n",
       " 'no',\n",
       " 'nor',\n",
       " 'not',\n",
       " 'only',\n",
       " 'own',\n",
       " 'same',\n",
       " 'so',\n",
       " 'than',\n",
       " 'too',\n",
       " 'very',\n",
       " 's',\n",
       " 't',\n",
       " 'can',\n",
       " 'will',\n",
       " 'just',\n",
       " 'don',\n",
       " \"don't\",\n",
       " 'should',\n",
       " \"should've\",\n",
       " 'now',\n",
       " 'd',\n",
       " 'll',\n",
       " 'm',\n",
       " 'o',\n",
       " 're',\n",
       " 've',\n",
       " 'y',\n",
       " 'ain',\n",
       " 'aren',\n",
       " \"aren't\",\n",
       " 'couldn',\n",
       " \"couldn't\",\n",
       " 'didn',\n",
       " \"didn't\",\n",
       " 'doesn',\n",
       " \"doesn't\",\n",
       " 'hadn',\n",
       " \"hadn't\",\n",
       " 'hasn',\n",
       " \"hasn't\",\n",
       " 'haven',\n",
       " \"haven't\",\n",
       " 'isn',\n",
       " \"isn't\",\n",
       " 'ma',\n",
       " 'mightn',\n",
       " \"mightn't\",\n",
       " 'mustn',\n",
       " \"mustn't\",\n",
       " 'needn',\n",
       " \"needn't\",\n",
       " 'shan',\n",
       " \"shan't\",\n",
       " 'shouldn',\n",
       " \"shouldn't\",\n",
       " 'wasn',\n",
       " \"wasn't\",\n",
       " 'weren',\n",
       " \"weren't\",\n",
       " 'won',\n",
       " \"won't\",\n",
       " 'wouldn',\n",
       " \"wouldn't\"]"
      ]
     },
     "execution_count": 46,
     "metadata": {},
     "output_type": "execute_result"
    }
   ],
   "source": [
    "#All the stop words in nltk.stopwords-English\n",
    "stopwords.words('english')"
   ]
  },
  {
   "cell_type": "code",
   "execution_count": 47,
   "id": "e643d049-df2d-4b85-8268-38d118ffe1f6",
   "metadata": {},
   "outputs": [
    {
     "name": "stdout",
     "output_type": "stream",
     "text": [
      "modi\n",
      "born\n",
      "raised\n",
      "vadnagar\n",
      "northeastern\n",
      "gujarat\n",
      "completed\n",
      "secondary\n",
      "education\n",
      "introduced\n",
      "r\n",
      "age\n",
      "eight\n",
      "account\n",
      "helping\n",
      "father\n",
      "sell\n",
      "tea\n",
      "vadnagar\n",
      "railway\n",
      "station\n",
      "reliably\n",
      "corroborated\n",
      "age\n",
      "married\n",
      "jashodaben\n",
      "modi\n",
      "abandoned\n",
      "soon\n",
      "publicly\n",
      "acknowledging\n",
      "four\n",
      "decade\n",
      "later\n",
      "legally\n",
      "required\n",
      "modi\n",
      "became\n",
      "full\n",
      "time\n",
      "worker\n",
      "r\n",
      "gujarat\n",
      "r\n",
      "assigned\n",
      "bjp\n",
      "held\n",
      "several\n",
      "position\n",
      "within\n",
      "party\n",
      "hierarchy\n",
      "rising\n",
      "rank\n",
      "general\n",
      "secretary\n",
      "c\n",
      "modi\n",
      "appointed\n",
      "chief\n",
      "minister\n",
      "gujarat\n",
      "elected\n",
      "legislative\n",
      "assembly\n",
      "soon\n",
      "administration\n",
      "considered\n",
      "complicit\n",
      "gujarat\n",
      "riot\n",
      "criticised\n",
      "management\n",
      "crisis\n",
      "little\n",
      "people\n",
      "killed\n",
      "according\n",
      "official\n",
      "record\n",
      "three\n",
      "quarter\n",
      "muslim\n",
      "independent\n",
      "source\n",
      "estimated\n",
      "death\n",
      "mostly\n",
      "muslim\n",
      "special\n",
      "investigation\n",
      "team\n",
      "appointed\n",
      "supreme\n",
      "court\n",
      "india\n",
      "found\n",
      "evidence\n",
      "initiate\n",
      "prosecution\n",
      "proceeding\n",
      "e\n",
      "policy\n",
      "chief\n",
      "minister\n",
      "credited\n",
      "encouraging\n",
      "economic\n",
      "growth\n",
      "praised\n",
      "modi\n",
      "administration\n",
      "criticised\n",
      "failing\n",
      "significantly\n",
      "improve\n",
      "health\n",
      "poverty\n",
      "education\n",
      "index\n",
      "state\n",
      "f\n",
      "indian\n",
      "general\n",
      "election\n",
      "modi\n",
      "led\n",
      "bjp\n",
      "parliamentary\n",
      "majority\n",
      "first\n",
      "party\n",
      "since\n",
      "administration\n",
      "increased\n",
      "direct\n",
      "foreign\n",
      "investment\n",
      "reduced\n",
      "spending\n",
      "healthcare\n",
      "education\n",
      "social\n",
      "welfare\n",
      "programme\n",
      "modi\n",
      "began\n",
      "high\n",
      "profile\n",
      "sanitation\n",
      "campaign\n",
      "controversially\n",
      "initiated\n",
      "demonetisation\n",
      "high\n",
      "denomination\n",
      "banknote\n",
      "introduced\n",
      "good\n",
      "service\n",
      "tax\n",
      "weakened\n",
      "abolished\n",
      "environmental\n",
      "labour\n",
      "law\n"
     ]
    }
   ],
   "source": [
    "##Lemmatization\n",
    "for i in corpus:\n",
    "    words=nltk.word_tokenize(i)\n",
    "    for word in words:\n",
    "        if word not in set(stopwords.words('english')):\n",
    "            print(lemmatizer.lemmatize(word))"
   ]
  },
  {
   "cell_type": "code",
   "execution_count": 73,
   "id": "2583a0ac-7bf1-44ea-a40b-a8fb724457f5",
   "metadata": {},
   "outputs": [],
   "source": [
    "#Applying stopwords and lemmatization\n",
    "corpus=[]\n",
    "for i in range(len(sentences)):\n",
    "    review=re.sub('[^a-zA-Z]',' ', sentences[i])\n",
    "    review=review.lower()\n",
    "    review=review.split()\n",
    "    review= [lemmatizer.lemmatize(word) for word in review if not word in set(stopwords.words('english'))]\n",
    "    review= ' '.join(review)\n",
    "    corpus.append(review)"
   ]
  },
  {
   "cell_type": "code",
   "execution_count": 48,
   "id": "8814a126-6f04-45df-8830-ae3a6157f310",
   "metadata": {},
   "outputs": [],
   "source": [
    "from sklearn.feature_extraction.text import CountVectorizer"
   ]
  },
  {
   "cell_type": "code",
   "execution_count": 68,
   "id": "8586a47c-528a-4c1b-a7af-f76d843139f3",
   "metadata": {},
   "outputs": [],
   "source": [
    "cv=CountVectorizer(binary=True)"
   ]
  },
  {
   "cell_type": "code",
   "execution_count": 69,
   "id": "53a251a4-cf4f-44fe-8d88-b1f7fd63de3b",
   "metadata": {},
   "outputs": [],
   "source": [
    "x=cv.fit_transform(corpus)"
   ]
  },
  {
   "cell_type": "code",
   "execution_count": 70,
   "id": "95798d21-30d0-4bd2-ae7d-203794999614",
   "metadata": {},
   "outputs": [
    {
     "data": {
      "text/plain": [
       "{'modi': 81,\n",
       " 'born': 14,\n",
       " 'raised': 100,\n",
       " 'vadnagar': 129,\n",
       " 'northeastern': 84,\n",
       " 'gujarat': 50,\n",
       " 'completed': 17,\n",
       " 'secondary': 109,\n",
       " 'education': 32,\n",
       " 'introduced': 65,\n",
       " 'age': 6,\n",
       " 'eight': 33,\n",
       " 'account': 3,\n",
       " 'helping': 54,\n",
       " 'father': 41,\n",
       " 'sell': 111,\n",
       " 'tea': 125,\n",
       " 'railway': 99,\n",
       " 'station': 122,\n",
       " 'reliably': 104,\n",
       " 'corroborated': 21,\n",
       " 'married': 79,\n",
       " 'jashodaben': 68,\n",
       " 'abandoned': 0,\n",
       " 'soon': 117,\n",
       " 'publicly': 97,\n",
       " 'acknowledging': 4,\n",
       " 'four': 45,\n",
       " 'decade': 27,\n",
       " 'later': 71,\n",
       " 'legally': 74,\n",
       " 'required': 105,\n",
       " 'became': 11,\n",
       " 'full': 46,\n",
       " 'time': 128,\n",
       " 'worker': 133,\n",
       " 'assigned': 9,\n",
       " 'bjp': 13,\n",
       " 'held': 53,\n",
       " 'several': 113,\n",
       " 'position': 90,\n",
       " 'within': 132,\n",
       " 'party': 87,\n",
       " 'hierarchy': 55,\n",
       " 'rising': 107,\n",
       " 'rank': 101,\n",
       " 'general': 47,\n",
       " 'secretary': 110,\n",
       " 'appointed': 7,\n",
       " 'chief': 16,\n",
       " 'minister': 80,\n",
       " 'elected': 34,\n",
       " 'legislative': 75,\n",
       " 'assembly': 8,\n",
       " 'administration': 5,\n",
       " 'considered': 19,\n",
       " 'complicit': 18,\n",
       " 'riot': 106,\n",
       " 'criticised': 25,\n",
       " 'management': 78,\n",
       " 'crisis': 24,\n",
       " 'little': 76,\n",
       " 'people': 88,\n",
       " 'killed': 69,\n",
       " 'according': 2,\n",
       " 'official': 85,\n",
       " 'record': 102,\n",
       " 'three': 127,\n",
       " 'quarter': 98,\n",
       " 'muslim': 83,\n",
       " 'independent': 59,\n",
       " 'source': 118,\n",
       " 'estimated': 38,\n",
       " 'death': 26,\n",
       " 'mostly': 82,\n",
       " 'special': 119,\n",
       " 'investigation': 66,\n",
       " 'team': 126,\n",
       " 'supreme': 123,\n",
       " 'court': 22,\n",
       " 'india': 61,\n",
       " 'found': 44,\n",
       " 'evidence': 39,\n",
       " 'initiate': 63,\n",
       " 'prosecution': 96,\n",
       " 'proceeding': 93,\n",
       " 'policy': 89,\n",
       " 'credited': 23,\n",
       " 'encouraging': 36,\n",
       " 'economic': 31,\n",
       " 'growth': 49,\n",
       " 'praised': 92,\n",
       " 'failing': 40,\n",
       " 'significantly': 114,\n",
       " 'improve': 57,\n",
       " 'health': 51,\n",
       " 'poverty': 91,\n",
       " 'index': 60,\n",
       " 'state': 121,\n",
       " 'indian': 62,\n",
       " 'election': 35,\n",
       " 'led': 73,\n",
       " 'parliamentary': 86,\n",
       " 'majority': 77,\n",
       " 'first': 42,\n",
       " 'since': 115,\n",
       " 'increased': 58,\n",
       " 'direct': 30,\n",
       " 'foreign': 43,\n",
       " 'investment': 67,\n",
       " 'reduced': 103,\n",
       " 'spending': 120,\n",
       " 'healthcare': 52,\n",
       " 'social': 116,\n",
       " 'welfare': 131,\n",
       " 'programme': 95,\n",
       " 'began': 12,\n",
       " 'high': 56,\n",
       " 'profile': 94,\n",
       " 'sanitation': 108,\n",
       " 'campaign': 15,\n",
       " 'controversially': 20,\n",
       " 'initiated': 64,\n",
       " 'demonetisation': 28,\n",
       " 'denomination': 29,\n",
       " 'banknote': 10,\n",
       " 'good': 48,\n",
       " 'service': 112,\n",
       " 'tax': 124,\n",
       " 'weakened': 130,\n",
       " 'abolished': 1,\n",
       " 'environmental': 37,\n",
       " 'labour': 70,\n",
       " 'law': 72}"
      ]
     },
     "execution_count": 70,
     "metadata": {},
     "output_type": "execute_result"
    }
   ],
   "source": [
    "cv.vocabulary_"
   ]
  },
  {
   "cell_type": "code",
   "execution_count": 71,
   "id": "179f1226-0a29-44ef-9d88-a3e01ba0d6ee",
   "metadata": {},
   "outputs": [
    {
     "data": {
      "text/plain": [
       "'modi born raised vadnagar northeastern gujarat completed secondary education'"
      ]
     },
     "execution_count": 71,
     "metadata": {},
     "output_type": "execute_result"
    }
   ],
   "source": [
    "corpus[0]"
   ]
  },
  {
   "cell_type": "code",
   "execution_count": 72,
   "id": "eb74bf41-903f-4bae-8a0e-abed80d2b1e4",
   "metadata": {},
   "outputs": [
    {
     "data": {
      "text/plain": [
       "array([[0, 0, 0, 0, 0, 0, 0, 0, 0, 0, 0, 0, 0, 0, 1, 0, 0, 1, 0, 0, 0, 0,\n",
       "        0, 0, 0, 0, 0, 0, 0, 0, 0, 0, 1, 0, 0, 0, 0, 0, 0, 0, 0, 0, 0, 0,\n",
       "        0, 0, 0, 0, 0, 0, 1, 0, 0, 0, 0, 0, 0, 0, 0, 0, 0, 0, 0, 0, 0, 0,\n",
       "        0, 0, 0, 0, 0, 0, 0, 0, 0, 0, 0, 0, 0, 0, 0, 1, 0, 0, 1, 0, 0, 0,\n",
       "        0, 0, 0, 0, 0, 0, 0, 0, 0, 0, 0, 0, 1, 0, 0, 0, 0, 0, 0, 0, 0, 1,\n",
       "        0, 0, 0, 0, 0, 0, 0, 0, 0, 0, 0, 0, 0, 0, 0, 0, 0, 0, 0, 1, 0, 0,\n",
       "        0, 0]])"
      ]
     },
     "execution_count": 72,
     "metadata": {},
     "output_type": "execute_result"
    }
   ],
   "source": [
    "x[0].toarray()"
   ]
  },
  {
   "cell_type": "code",
   "execution_count": null,
   "id": "8af168ba-2f3a-420d-842a-50f08e58d4f9",
   "metadata": {},
   "outputs": [],
   "source": [
    "c,a,2,4,a,c,b"
   ]
  }
 ],
 "metadata": {
  "kernelspec": {
   "display_name": "Python 3 (ipykernel)",
   "language": "python",
   "name": "python3"
  },
  "language_info": {
   "codemirror_mode": {
    "name": "ipython",
    "version": 3
   },
   "file_extension": ".py",
   "mimetype": "text/x-python",
   "name": "python",
   "nbconvert_exporter": "python",
   "pygments_lexer": "ipython3",
   "version": "3.11.7"
  }
 },
 "nbformat": 4,
 "nbformat_minor": 5
}
