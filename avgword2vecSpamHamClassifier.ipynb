{
 "cells": [
  {
   "cell_type": "code",
   "execution_count": 49,
   "metadata": {},
   "outputs": [
    {
     "name": "stdout",
     "output_type": "stream",
     "text": [
      "Requirement already satisfied: gensim in /opt/homebrew/lib/python3.11/site-packages (4.3.2)\n",
      "Requirement already satisfied: numpy>=1.18.5 in /opt/homebrew/lib/python3.11/site-packages (from gensim) (1.26.2)\n",
      "Requirement already satisfied: scipy>=1.7.0 in /opt/homebrew/lib/python3.11/site-packages (from gensim) (1.11.3)\n",
      "Requirement already satisfied: smart-open>=1.8.1 in /opt/homebrew/lib/python3.11/site-packages (from gensim) (7.0.4)\n",
      "Requirement already satisfied: wrapt in /opt/homebrew/lib/python3.11/site-packages (from smart-open>=1.8.1->gensim) (1.16.0)\n"
     ]
    }
   ],
   "source": [
    "!pip install gensim"
   ]
  },
  {
   "cell_type": "code",
   "execution_count": 50,
   "metadata": {},
   "outputs": [],
   "source": [
    "import gensim\n",
    "from gensim.models import Word2Vec, KeyedVectors"
   ]
  },
  {
   "cell_type": "code",
   "execution_count": 51,
   "metadata": {},
   "outputs": [],
   "source": [
    "import gensim.downloader as api\n",
    "\n",
    "wv = api.load('word2vec-google-news-300')\n",
    "\n",
    "vec_king = wv['king']"
   ]
  },
  {
   "cell_type": "code",
   "execution_count": 52,
   "metadata": {},
   "outputs": [
    {
     "data": {
      "text/plain": [
       "array([ 0.12597656,  0.02978516,  0.00860596,  0.13964844, -0.02563477,\n",
       "       -0.03613281,  0.11181641, -0.19824219,  0.05126953,  0.36328125],\n",
       "      dtype=float32)"
      ]
     },
     "execution_count": 52,
     "metadata": {},
     "output_type": "execute_result"
    }
   ],
   "source": [
    "vec_king[:10]"
   ]
  },
  {
   "cell_type": "code",
   "execution_count": 53,
   "metadata": {},
   "outputs": [],
   "source": [
    "import pandas as pd\n",
    "messages=pd.read_csv('SMSSpamCollection.txt',\n",
    "                    sep='\\t',names=[\"label\",\"message\"])"
   ]
  },
  {
   "cell_type": "code",
   "execution_count": 54,
   "metadata": {},
   "outputs": [
    {
     "data": {
      "text/plain": [
       "(5572, 2)"
      ]
     },
     "execution_count": 54,
     "metadata": {},
     "output_type": "execute_result"
    }
   ],
   "source": [
    "messages.shape"
   ]
  },
  {
   "cell_type": "code",
   "execution_count": 55,
   "metadata": {},
   "outputs": [],
   "source": [
    "from nltk.stem import WordNetLemmatizer\n",
    "lemmatizer=WordNetLemmatizer()"
   ]
  },
  {
   "cell_type": "code",
   "execution_count": 56,
   "metadata": {},
   "outputs": [
    {
     "name": "stderr",
     "output_type": "stream",
     "text": [
      "[nltk_data] Downloading package stopwords to\n",
      "[nltk_data]     /Users/shrey_98/nltk_data...\n",
      "[nltk_data]   Package stopwords is already up-to-date!\n"
     ]
    },
    {
     "data": {
      "text/plain": [
       "True"
      ]
     },
     "execution_count": 56,
     "metadata": {},
     "output_type": "execute_result"
    }
   ],
   "source": [
    "import re\n",
    "import nltk\n",
    "nltk.download('stopwords')"
   ]
  },
  {
   "cell_type": "code",
   "execution_count": 57,
   "metadata": {},
   "outputs": [],
   "source": [
    "corpus = []\n",
    "for i in range(0, len(messages)):\n",
    "    review = re.sub('[^a-zA-Z]', ' ', messages['message'][i])\n",
    "    review = review.lower()\n",
    "    review = review.split()\n",
    "    \n",
    "    review = [lemmatizer.lemmatize(word) for word in review]\n",
    "    review = ' '.join(review)\n",
    "    corpus.append(review)"
   ]
  },
  {
   "cell_type": "code",
   "execution_count": 58,
   "metadata": {},
   "outputs": [
    {
     "data": {
      "text/plain": [
       "['go until jurong point crazy available only in bugis n great world la e buffet cine there got amore wat',\n",
       " 'ok lar joking wif u oni']"
      ]
     },
     "execution_count": 58,
     "metadata": {},
     "output_type": "execute_result"
    }
   ],
   "source": [
    "corpus[:2]"
   ]
  },
  {
   "cell_type": "code",
   "execution_count": 59,
   "metadata": {},
   "outputs": [],
   "source": [
    "from nltk import sent_tokenize\n",
    "from gensim.utils import simple_preprocess"
   ]
  },
  {
   "cell_type": "code",
   "execution_count": 60,
   "metadata": {},
   "outputs": [],
   "source": [
    "words=[]\n",
    "for sent in corpus:\n",
    "    sent_token=sent_tokenize(sent)\n",
    "    for sent in sent_token:\n",
    "        words.append(simple_preprocess(sent))\n"
   ]
  },
  {
   "cell_type": "code",
   "execution_count": 61,
   "metadata": {},
   "outputs": [
    {
     "data": {
      "text/plain": [
       "[['go',\n",
       "  'until',\n",
       "  'jurong',\n",
       "  'point',\n",
       "  'crazy',\n",
       "  'available',\n",
       "  'only',\n",
       "  'in',\n",
       "  'bugis',\n",
       "  'great',\n",
       "  'world',\n",
       "  'la',\n",
       "  'buffet',\n",
       "  'cine',\n",
       "  'there',\n",
       "  'got',\n",
       "  'amore',\n",
       "  'wat'],\n",
       " ['ok', 'lar', 'joking', 'wif', 'oni']]"
      ]
     },
     "execution_count": 61,
     "metadata": {},
     "output_type": "execute_result"
    }
   ],
   "source": [
    "words[:2]"
   ]
  },
  {
   "cell_type": "code",
   "execution_count": 63,
   "metadata": {},
   "outputs": [],
   "source": [
    "import gensim"
   ]
  },
  {
   "cell_type": "code",
   "execution_count": 64,
   "metadata": {},
   "outputs": [],
   "source": [
    "## Lets train Word2vec from scratch\n",
    "model=gensim.models.Word2Vec(words)"
   ]
  },
  {
   "cell_type": "code",
   "execution_count": 65,
   "metadata": {},
   "outputs": [
    {
     "data": {
      "text/plain": [
       "5569"
      ]
     },
     "execution_count": 65,
     "metadata": {},
     "output_type": "execute_result"
    }
   ],
   "source": [
    "model.corpus_count"
   ]
  },
  {
   "cell_type": "code",
   "execution_count": 66,
   "metadata": {},
   "outputs": [
    {
     "data": {
      "text/plain": [
       "5"
      ]
     },
     "execution_count": 66,
     "metadata": {},
     "output_type": "execute_result"
    }
   ],
   "source": [
    "model.epochs"
   ]
  },
  {
   "cell_type": "code",
   "execution_count": 67,
   "metadata": {},
   "outputs": [
    {
     "data": {
      "text/plain": [
       "[('my', 0.9986546635627747),\n",
       " ('happy', 0.9984652996063232),\n",
       " ('day', 0.9983446598052979),\n",
       " ('morning', 0.9982134103775024),\n",
       " ('all', 0.9982128143310547),\n",
       " ('where', 0.9981928467750549),\n",
       " ('night', 0.998185396194458),\n",
       " ('not', 0.9981766939163208),\n",
       " ('well', 0.9981682300567627),\n",
       " ('wa', 0.9981035590171814)]"
      ]
     },
     "execution_count": 67,
     "metadata": {},
     "output_type": "execute_result"
    }
   ],
   "source": [
    "model.wv.similar_by_word('good')"
   ]
  },
  {
   "cell_type": "code",
   "execution_count": 68,
   "metadata": {},
   "outputs": [
    {
     "data": {
      "text/plain": [
       "(100,)"
      ]
     },
     "execution_count": 68,
     "metadata": {},
     "output_type": "execute_result"
    }
   ],
   "source": [
    "model.wv['good'].shape"
   ]
  },
  {
   "cell_type": "code",
   "execution_count": 69,
   "metadata": {},
   "outputs": [
    {
     "data": {
      "text/plain": [
       "[['go',\n",
       "  'until',\n",
       "  'jurong',\n",
       "  'point',\n",
       "  'crazy',\n",
       "  'available',\n",
       "  'only',\n",
       "  'in',\n",
       "  'bugis',\n",
       "  'great',\n",
       "  'world',\n",
       "  'la',\n",
       "  'buffet',\n",
       "  'cine',\n",
       "  'there',\n",
       "  'got',\n",
       "  'amore',\n",
       "  'wat']]"
      ]
     },
     "execution_count": 69,
     "metadata": {},
     "output_type": "execute_result"
    }
   ],
   "source": [
    "words[:1]"
   ]
  },
  {
   "cell_type": "code",
   "execution_count": 70,
   "metadata": {},
   "outputs": [],
   "source": [
    "def avg_word2vec(doc):\n",
    "    # remove out-of-vocabulary words\n",
    "    #sent = [word for word in doc if word in model.wv.index_to_key]\n",
    "    #print(sent)\n",
    "    \n",
    "    return np.mean([model.wv[word] for word in doc if word in model.wv.index_to_key],axis=0)\n",
    "                #or [np.zeros(len(model.wv.index_to_key))], axis=0)"
   ]
  },
  {
   "cell_type": "code",
   "execution_count": 71,
   "metadata": {},
   "outputs": [
    {
     "name": "stdout",
     "output_type": "stream",
     "text": [
      "Requirement already satisfied: tqdm in /opt/homebrew/lib/python3.11/site-packages (4.66.1)\n"
     ]
    }
   ],
   "source": [
    "!pip install tqdm"
   ]
  },
  {
   "cell_type": "code",
   "execution_count": 72,
   "metadata": {},
   "outputs": [],
   "source": [
    "from tqdm import tqdm"
   ]
  },
  {
   "cell_type": "code",
   "execution_count": 78,
   "metadata": {},
   "outputs": [
    {
     "name": "stderr",
     "output_type": "stream",
     "text": [
      "100%|████████████████████████████████████| 5569/5569 [00:00<00:00, 17612.34it/s]\n"
     ]
    }
   ],
   "source": [
    "#apply for the entire sentences\n",
    "import numpy as np\n",
    "X=[]\n",
    "for i in tqdm(range(len(words))):\n",
    "    X.append(avg_word2vec(words[i]))"
   ]
  },
  {
   "cell_type": "code",
   "execution_count": 79,
   "metadata": {},
   "outputs": [
    {
     "data": {
      "text/plain": [
       "5569"
      ]
     },
     "execution_count": 79,
     "metadata": {},
     "output_type": "execute_result"
    }
   ],
   "source": [
    "len(X)"
   ]
  },
  {
   "cell_type": "code",
   "execution_count": 80,
   "metadata": {},
   "outputs": [
    {
     "data": {
      "text/plain": [
       "(5572, 2)"
      ]
     },
     "execution_count": 80,
     "metadata": {},
     "output_type": "execute_result"
    }
   ],
   "source": [
    "messages.shape"
   ]
  },
  {
   "cell_type": "code",
   "execution_count": 76,
   "metadata": {},
   "outputs": [
    {
     "data": {
      "text/plain": [
       "array([-0.16578935,  0.1791723 ,  0.1130751 ,  0.08315537,  0.07789968,\n",
       "       -0.4273434 ,  0.13180745,  0.37494206, -0.230911  , -0.11584368,\n",
       "       -0.14565405, -0.33317983, -0.03926856,  0.0690046 ,  0.20108469,\n",
       "       -0.14224753,  0.06473842, -0.28320706, -0.02574972, -0.45377067,\n",
       "        0.1694125 ,  0.08256179,  0.07609369, -0.15751237, -0.02761158,\n",
       "       -0.00994881, -0.15773393, -0.18920907, -0.21986803,  0.04817484,\n",
       "        0.26553243,  0.01362802,  0.08939889, -0.15862127, -0.07532104,\n",
       "        0.3643058 ,  0.05899221, -0.09540585, -0.11530045, -0.39703584,\n",
       "        0.0904272 , -0.20805481, -0.15688802, -0.01456763,  0.12378065,\n",
       "       -0.02768737, -0.12287173, -0.01937274,  0.20306066,  0.09610365,\n",
       "        0.138952  , -0.16232422, -0.01771149,  0.05643875, -0.07464506,\n",
       "        0.07805735,  0.15010054,  0.0161264 , -0.35946435,  0.12639256,\n",
       "        0.01659738,  0.13378355, -0.01165696, -0.07040858, -0.2729501 ,\n",
       "        0.2087234 ,  0.0553378 ,  0.1994466 , -0.27656716,  0.3413833 ,\n",
       "       -0.20838542,  0.14051606,  0.33135074, -0.09361019,  0.2832675 ,\n",
       "        0.06212034,  0.06276008, -0.0765391 , -0.14259262,  0.07113144,\n",
       "       -0.16296294, -0.09194341, -0.20954783,  0.3640797 , -0.12115338,\n",
       "       -0.02088914,  0.03128512,  0.23111303,  0.29605162,  0.04453143,\n",
       "        0.300521  ,  0.15628046,  0.0161068 ,  0.03820793,  0.35914436,\n",
       "        0.15520473,  0.14395934, -0.19070557,  0.15741564, -0.01129088],\n",
       "      dtype=float32)"
      ]
     },
     "execution_count": 76,
     "metadata": {},
     "output_type": "execute_result"
    }
   ],
   "source": [
    "X[1]"
   ]
  },
  {
   "cell_type": "code",
   "execution_count": 83,
   "metadata": {},
   "outputs": [],
   "source": [
    "## Dependent Features\n",
    "## Output Features\n",
    "y = messages[list(map(lambda x: len(x)>0 ,corpus))]\n",
    "y=pd.get_dummies(y['label'])\n",
    "y=y.iloc[:,0].values"
   ]
  },
  {
   "cell_type": "code",
   "execution_count": 84,
   "metadata": {},
   "outputs": [
    {
     "data": {
      "text/plain": [
       "(5569,)"
      ]
     },
     "execution_count": 84,
     "metadata": {},
     "output_type": "execute_result"
    }
   ],
   "source": [
    "y.shape"
   ]
  },
  {
   "cell_type": "code",
   "execution_count": 85,
   "metadata": {},
   "outputs": [
    {
     "data": {
      "text/plain": [
       "(1, 100)"
      ]
     },
     "execution_count": 85,
     "metadata": {},
     "output_type": "execute_result"
    }
   ],
   "source": [
    "X[0].reshape(1,-1).shape"
   ]
  },
  {
   "cell_type": "code",
   "execution_count": 87,
   "metadata": {},
   "outputs": [
    {
     "name": "stderr",
     "output_type": "stream",
     "text": [
      "/var/folders/l2/8f2r1rwx6lx76vv6n6ncb1k40000gn/T/ipykernel_53601/357844545.py:6: FutureWarning: The behavior of DataFrame concatenation with empty or all-NA entries is deprecated. In a future version, this will no longer exclude empty or all-NA columns when determining the result dtypes. To retain the old behavior, exclude the relevant entries before the concat operation.\n",
      "  df = pd.concat(dfs, ignore_index=True)\n"
     ]
    }
   ],
   "source": [
    "## this is the final independent features\n",
    "import pandas as pd\n",
    "\n",
    "# Assuming X is a list of numpy arrays\n",
    "dfs = [pd.DataFrame(X[i].reshape(1, -1)) for i in range(len(X))]\n",
    "df = pd.concat(dfs, ignore_index=True)\n"
   ]
  },
  {
   "cell_type": "code",
   "execution_count": 88,
   "metadata": {},
   "outputs": [
    {
     "data": {
      "text/html": [
       "<div>\n",
       "<style scoped>\n",
       "    .dataframe tbody tr th:only-of-type {\n",
       "        vertical-align: middle;\n",
       "    }\n",
       "\n",
       "    .dataframe tbody tr th {\n",
       "        vertical-align: top;\n",
       "    }\n",
       "\n",
       "    .dataframe thead th {\n",
       "        text-align: right;\n",
       "    }\n",
       "</style>\n",
       "<table border=\"1\" class=\"dataframe\">\n",
       "  <thead>\n",
       "    <tr style=\"text-align: right;\">\n",
       "      <th></th>\n",
       "      <th>0</th>\n",
       "      <th>1</th>\n",
       "      <th>2</th>\n",
       "      <th>3</th>\n",
       "      <th>4</th>\n",
       "      <th>5</th>\n",
       "      <th>6</th>\n",
       "      <th>7</th>\n",
       "      <th>8</th>\n",
       "      <th>9</th>\n",
       "      <th>...</th>\n",
       "      <th>90</th>\n",
       "      <th>91</th>\n",
       "      <th>92</th>\n",
       "      <th>93</th>\n",
       "      <th>94</th>\n",
       "      <th>95</th>\n",
       "      <th>96</th>\n",
       "      <th>97</th>\n",
       "      <th>98</th>\n",
       "      <th>99</th>\n",
       "    </tr>\n",
       "  </thead>\n",
       "  <tbody>\n",
       "    <tr>\n",
       "      <th>0</th>\n",
       "      <td>-0.182639</td>\n",
       "      <td>0.208242</td>\n",
       "      <td>0.135395</td>\n",
       "      <td>0.095533</td>\n",
       "      <td>0.082732</td>\n",
       "      <td>-0.499929</td>\n",
       "      <td>0.170139</td>\n",
       "      <td>0.429740</td>\n",
       "      <td>-0.269640</td>\n",
       "      <td>-0.144885</td>\n",
       "      <td>...</td>\n",
       "      <td>0.346806</td>\n",
       "      <td>0.192415</td>\n",
       "      <td>0.026301</td>\n",
       "      <td>0.052786</td>\n",
       "      <td>0.435655</td>\n",
       "      <td>0.186245</td>\n",
       "      <td>0.168710</td>\n",
       "      <td>-0.212550</td>\n",
       "      <td>0.179083</td>\n",
       "      <td>-0.005921</td>\n",
       "    </tr>\n",
       "    <tr>\n",
       "      <th>1</th>\n",
       "      <td>-0.165789</td>\n",
       "      <td>0.179172</td>\n",
       "      <td>0.113075</td>\n",
       "      <td>0.083155</td>\n",
       "      <td>0.077900</td>\n",
       "      <td>-0.427343</td>\n",
       "      <td>0.131807</td>\n",
       "      <td>0.374942</td>\n",
       "      <td>-0.230911</td>\n",
       "      <td>-0.115844</td>\n",
       "      <td>...</td>\n",
       "      <td>0.300521</td>\n",
       "      <td>0.156280</td>\n",
       "      <td>0.016107</td>\n",
       "      <td>0.038208</td>\n",
       "      <td>0.359144</td>\n",
       "      <td>0.155205</td>\n",
       "      <td>0.143959</td>\n",
       "      <td>-0.190706</td>\n",
       "      <td>0.157416</td>\n",
       "      <td>-0.011291</td>\n",
       "    </tr>\n",
       "    <tr>\n",
       "      <th>2</th>\n",
       "      <td>-0.191308</td>\n",
       "      <td>0.222036</td>\n",
       "      <td>0.146309</td>\n",
       "      <td>0.109131</td>\n",
       "      <td>0.073037</td>\n",
       "      <td>-0.540101</td>\n",
       "      <td>0.167136</td>\n",
       "      <td>0.408618</td>\n",
       "      <td>-0.279875</td>\n",
       "      <td>-0.166972</td>\n",
       "      <td>...</td>\n",
       "      <td>0.346190</td>\n",
       "      <td>0.204998</td>\n",
       "      <td>0.014374</td>\n",
       "      <td>0.023922</td>\n",
       "      <td>0.444901</td>\n",
       "      <td>0.170915</td>\n",
       "      <td>0.123100</td>\n",
       "      <td>-0.242632</td>\n",
       "      <td>0.203992</td>\n",
       "      <td>0.021933</td>\n",
       "    </tr>\n",
       "    <tr>\n",
       "      <th>3</th>\n",
       "      <td>-0.249937</td>\n",
       "      <td>0.279024</td>\n",
       "      <td>0.174360</td>\n",
       "      <td>0.131232</td>\n",
       "      <td>0.112394</td>\n",
       "      <td>-0.669033</td>\n",
       "      <td>0.217307</td>\n",
       "      <td>0.585488</td>\n",
       "      <td>-0.366752</td>\n",
       "      <td>-0.184901</td>\n",
       "      <td>...</td>\n",
       "      <td>0.464889</td>\n",
       "      <td>0.251012</td>\n",
       "      <td>0.029540</td>\n",
       "      <td>0.076192</td>\n",
       "      <td>0.569226</td>\n",
       "      <td>0.254041</td>\n",
       "      <td>0.240053</td>\n",
       "      <td>-0.289830</td>\n",
       "      <td>0.237916</td>\n",
       "      <td>-0.017203</td>\n",
       "    </tr>\n",
       "    <tr>\n",
       "      <th>4</th>\n",
       "      <td>-0.217537</td>\n",
       "      <td>0.231340</td>\n",
       "      <td>0.155360</td>\n",
       "      <td>0.108782</td>\n",
       "      <td>0.103766</td>\n",
       "      <td>-0.567698</td>\n",
       "      <td>0.184006</td>\n",
       "      <td>0.500435</td>\n",
       "      <td>-0.313018</td>\n",
       "      <td>-0.165169</td>\n",
       "      <td>...</td>\n",
       "      <td>0.401234</td>\n",
       "      <td>0.210512</td>\n",
       "      <td>0.030325</td>\n",
       "      <td>0.067508</td>\n",
       "      <td>0.485411</td>\n",
       "      <td>0.218975</td>\n",
       "      <td>0.196292</td>\n",
       "      <td>-0.257395</td>\n",
       "      <td>0.196076</td>\n",
       "      <td>-0.013062</td>\n",
       "    </tr>\n",
       "  </tbody>\n",
       "</table>\n",
       "<p>5 rows × 100 columns</p>\n",
       "</div>"
      ],
      "text/plain": [
       "         0         1         2         3         4         5         6   \\\n",
       "0 -0.182639  0.208242  0.135395  0.095533  0.082732 -0.499929  0.170139   \n",
       "1 -0.165789  0.179172  0.113075  0.083155  0.077900 -0.427343  0.131807   \n",
       "2 -0.191308  0.222036  0.146309  0.109131  0.073037 -0.540101  0.167136   \n",
       "3 -0.249937  0.279024  0.174360  0.131232  0.112394 -0.669033  0.217307   \n",
       "4 -0.217537  0.231340  0.155360  0.108782  0.103766 -0.567698  0.184006   \n",
       "\n",
       "         7         8         9   ...        90        91        92        93  \\\n",
       "0  0.429740 -0.269640 -0.144885  ...  0.346806  0.192415  0.026301  0.052786   \n",
       "1  0.374942 -0.230911 -0.115844  ...  0.300521  0.156280  0.016107  0.038208   \n",
       "2  0.408618 -0.279875 -0.166972  ...  0.346190  0.204998  0.014374  0.023922   \n",
       "3  0.585488 -0.366752 -0.184901  ...  0.464889  0.251012  0.029540  0.076192   \n",
       "4  0.500435 -0.313018 -0.165169  ...  0.401234  0.210512  0.030325  0.067508   \n",
       "\n",
       "         94        95        96        97        98        99  \n",
       "0  0.435655  0.186245  0.168710 -0.212550  0.179083 -0.005921  \n",
       "1  0.359144  0.155205  0.143959 -0.190706  0.157416 -0.011291  \n",
       "2  0.444901  0.170915  0.123100 -0.242632  0.203992  0.021933  \n",
       "3  0.569226  0.254041  0.240053 -0.289830  0.237916 -0.017203  \n",
       "4  0.485411  0.218975  0.196292 -0.257395  0.196076 -0.013062  \n",
       "\n",
       "[5 rows x 100 columns]"
      ]
     },
     "execution_count": 88,
     "metadata": {},
     "output_type": "execute_result"
    }
   ],
   "source": [
    "df.head()"
   ]
  },
  {
   "cell_type": "code",
   "execution_count": 89,
   "metadata": {},
   "outputs": [],
   "source": [
    "df['Output']=y"
   ]
  },
  {
   "cell_type": "code",
   "execution_count": 90,
   "metadata": {},
   "outputs": [
    {
     "data": {
      "text/html": [
       "<div>\n",
       "<style scoped>\n",
       "    .dataframe tbody tr th:only-of-type {\n",
       "        vertical-align: middle;\n",
       "    }\n",
       "\n",
       "    .dataframe tbody tr th {\n",
       "        vertical-align: top;\n",
       "    }\n",
       "\n",
       "    .dataframe thead th {\n",
       "        text-align: right;\n",
       "    }\n",
       "</style>\n",
       "<table border=\"1\" class=\"dataframe\">\n",
       "  <thead>\n",
       "    <tr style=\"text-align: right;\">\n",
       "      <th></th>\n",
       "      <th>0</th>\n",
       "      <th>1</th>\n",
       "      <th>2</th>\n",
       "      <th>3</th>\n",
       "      <th>4</th>\n",
       "      <th>5</th>\n",
       "      <th>6</th>\n",
       "      <th>7</th>\n",
       "      <th>8</th>\n",
       "      <th>9</th>\n",
       "      <th>...</th>\n",
       "      <th>91</th>\n",
       "      <th>92</th>\n",
       "      <th>93</th>\n",
       "      <th>94</th>\n",
       "      <th>95</th>\n",
       "      <th>96</th>\n",
       "      <th>97</th>\n",
       "      <th>98</th>\n",
       "      <th>99</th>\n",
       "      <th>Output</th>\n",
       "    </tr>\n",
       "  </thead>\n",
       "  <tbody>\n",
       "    <tr>\n",
       "      <th>0</th>\n",
       "      <td>-0.182639</td>\n",
       "      <td>0.208242</td>\n",
       "      <td>0.135395</td>\n",
       "      <td>0.095533</td>\n",
       "      <td>0.082732</td>\n",
       "      <td>-0.499929</td>\n",
       "      <td>0.170139</td>\n",
       "      <td>0.429740</td>\n",
       "      <td>-0.269640</td>\n",
       "      <td>-0.144885</td>\n",
       "      <td>...</td>\n",
       "      <td>0.192415</td>\n",
       "      <td>0.026301</td>\n",
       "      <td>0.052786</td>\n",
       "      <td>0.435655</td>\n",
       "      <td>0.186245</td>\n",
       "      <td>0.168710</td>\n",
       "      <td>-0.212550</td>\n",
       "      <td>0.179083</td>\n",
       "      <td>-0.005921</td>\n",
       "      <td>True</td>\n",
       "    </tr>\n",
       "    <tr>\n",
       "      <th>1</th>\n",
       "      <td>-0.165789</td>\n",
       "      <td>0.179172</td>\n",
       "      <td>0.113075</td>\n",
       "      <td>0.083155</td>\n",
       "      <td>0.077900</td>\n",
       "      <td>-0.427343</td>\n",
       "      <td>0.131807</td>\n",
       "      <td>0.374942</td>\n",
       "      <td>-0.230911</td>\n",
       "      <td>-0.115844</td>\n",
       "      <td>...</td>\n",
       "      <td>0.156280</td>\n",
       "      <td>0.016107</td>\n",
       "      <td>0.038208</td>\n",
       "      <td>0.359144</td>\n",
       "      <td>0.155205</td>\n",
       "      <td>0.143959</td>\n",
       "      <td>-0.190706</td>\n",
       "      <td>0.157416</td>\n",
       "      <td>-0.011291</td>\n",
       "      <td>True</td>\n",
       "    </tr>\n",
       "    <tr>\n",
       "      <th>2</th>\n",
       "      <td>-0.191308</td>\n",
       "      <td>0.222036</td>\n",
       "      <td>0.146309</td>\n",
       "      <td>0.109131</td>\n",
       "      <td>0.073037</td>\n",
       "      <td>-0.540101</td>\n",
       "      <td>0.167136</td>\n",
       "      <td>0.408618</td>\n",
       "      <td>-0.279875</td>\n",
       "      <td>-0.166972</td>\n",
       "      <td>...</td>\n",
       "      <td>0.204998</td>\n",
       "      <td>0.014374</td>\n",
       "      <td>0.023922</td>\n",
       "      <td>0.444901</td>\n",
       "      <td>0.170915</td>\n",
       "      <td>0.123100</td>\n",
       "      <td>-0.242632</td>\n",
       "      <td>0.203992</td>\n",
       "      <td>0.021933</td>\n",
       "      <td>False</td>\n",
       "    </tr>\n",
       "    <tr>\n",
       "      <th>3</th>\n",
       "      <td>-0.249937</td>\n",
       "      <td>0.279024</td>\n",
       "      <td>0.174360</td>\n",
       "      <td>0.131232</td>\n",
       "      <td>0.112394</td>\n",
       "      <td>-0.669033</td>\n",
       "      <td>0.217307</td>\n",
       "      <td>0.585488</td>\n",
       "      <td>-0.366752</td>\n",
       "      <td>-0.184901</td>\n",
       "      <td>...</td>\n",
       "      <td>0.251012</td>\n",
       "      <td>0.029540</td>\n",
       "      <td>0.076192</td>\n",
       "      <td>0.569226</td>\n",
       "      <td>0.254041</td>\n",
       "      <td>0.240053</td>\n",
       "      <td>-0.289830</td>\n",
       "      <td>0.237916</td>\n",
       "      <td>-0.017203</td>\n",
       "      <td>True</td>\n",
       "    </tr>\n",
       "    <tr>\n",
       "      <th>4</th>\n",
       "      <td>-0.217537</td>\n",
       "      <td>0.231340</td>\n",
       "      <td>0.155360</td>\n",
       "      <td>0.108782</td>\n",
       "      <td>0.103766</td>\n",
       "      <td>-0.567698</td>\n",
       "      <td>0.184006</td>\n",
       "      <td>0.500435</td>\n",
       "      <td>-0.313018</td>\n",
       "      <td>-0.165169</td>\n",
       "      <td>...</td>\n",
       "      <td>0.210512</td>\n",
       "      <td>0.030325</td>\n",
       "      <td>0.067508</td>\n",
       "      <td>0.485411</td>\n",
       "      <td>0.218975</td>\n",
       "      <td>0.196292</td>\n",
       "      <td>-0.257395</td>\n",
       "      <td>0.196076</td>\n",
       "      <td>-0.013062</td>\n",
       "      <td>True</td>\n",
       "    </tr>\n",
       "  </tbody>\n",
       "</table>\n",
       "<p>5 rows × 101 columns</p>\n",
       "</div>"
      ],
      "text/plain": [
       "          0         1         2         3         4         5         6  \\\n",
       "0 -0.182639  0.208242  0.135395  0.095533  0.082732 -0.499929  0.170139   \n",
       "1 -0.165789  0.179172  0.113075  0.083155  0.077900 -0.427343  0.131807   \n",
       "2 -0.191308  0.222036  0.146309  0.109131  0.073037 -0.540101  0.167136   \n",
       "3 -0.249937  0.279024  0.174360  0.131232  0.112394 -0.669033  0.217307   \n",
       "4 -0.217537  0.231340  0.155360  0.108782  0.103766 -0.567698  0.184006   \n",
       "\n",
       "          7         8         9  ...        91        92        93        94  \\\n",
       "0  0.429740 -0.269640 -0.144885  ...  0.192415  0.026301  0.052786  0.435655   \n",
       "1  0.374942 -0.230911 -0.115844  ...  0.156280  0.016107  0.038208  0.359144   \n",
       "2  0.408618 -0.279875 -0.166972  ...  0.204998  0.014374  0.023922  0.444901   \n",
       "3  0.585488 -0.366752 -0.184901  ...  0.251012  0.029540  0.076192  0.569226   \n",
       "4  0.500435 -0.313018 -0.165169  ...  0.210512  0.030325  0.067508  0.485411   \n",
       "\n",
       "         95        96        97        98        99  Output  \n",
       "0  0.186245  0.168710 -0.212550  0.179083 -0.005921    True  \n",
       "1  0.155205  0.143959 -0.190706  0.157416 -0.011291    True  \n",
       "2  0.170915  0.123100 -0.242632  0.203992  0.021933   False  \n",
       "3  0.254041  0.240053 -0.289830  0.237916 -0.017203    True  \n",
       "4  0.218975  0.196292 -0.257395  0.196076 -0.013062    True  \n",
       "\n",
       "[5 rows x 101 columns]"
      ]
     },
     "execution_count": 90,
     "metadata": {},
     "output_type": "execute_result"
    }
   ],
   "source": [
    "df.head()"
   ]
  },
  {
   "cell_type": "code",
   "execution_count": 91,
   "metadata": {},
   "outputs": [],
   "source": [
    "df.dropna(inplace=True)"
   ]
  },
  {
   "cell_type": "code",
   "execution_count": 92,
   "metadata": {},
   "outputs": [
    {
     "data": {
      "text/plain": [
       "0         0\n",
       "1         0\n",
       "2         0\n",
       "3         0\n",
       "4         0\n",
       "         ..\n",
       "96        0\n",
       "97        0\n",
       "98        0\n",
       "99        0\n",
       "Output    0\n",
       "Length: 101, dtype: int64"
      ]
     },
     "execution_count": 92,
     "metadata": {},
     "output_type": "execute_result"
    }
   ],
   "source": [
    "df.isnull().sum()"
   ]
  },
  {
   "cell_type": "code",
   "execution_count": 93,
   "metadata": {},
   "outputs": [],
   "source": [
    "## Independent Feature\n",
    "X=df"
   ]
  },
  {
   "cell_type": "code",
   "execution_count": 94,
   "metadata": {},
   "outputs": [
    {
     "data": {
      "text/plain": [
       "0         0\n",
       "1         0\n",
       "2         0\n",
       "3         0\n",
       "4         0\n",
       "         ..\n",
       "96        0\n",
       "97        0\n",
       "98        0\n",
       "99        0\n",
       "Output    0\n",
       "Length: 101, dtype: int64"
      ]
     },
     "execution_count": 94,
     "metadata": {},
     "output_type": "execute_result"
    }
   ],
   "source": [
    "X.isnull().sum()"
   ]
  },
  {
   "cell_type": "code",
   "execution_count": 95,
   "metadata": {},
   "outputs": [],
   "source": [
    "y=df['Output']"
   ]
  },
  {
   "cell_type": "code",
   "execution_count": 96,
   "metadata": {},
   "outputs": [],
   "source": [
    "## Train Test Split\n",
    "from sklearn.model_selection import train_test_split\n",
    "X_train,X_test,y_train,y_test=train_test_split(X,y,test_size=0.20)"
   ]
  },
  {
   "cell_type": "code",
   "execution_count": 97,
   "metadata": {},
   "outputs": [
    {
     "data": {
      "text/html": [
       "<div>\n",
       "<style scoped>\n",
       "    .dataframe tbody tr th:only-of-type {\n",
       "        vertical-align: middle;\n",
       "    }\n",
       "\n",
       "    .dataframe tbody tr th {\n",
       "        vertical-align: top;\n",
       "    }\n",
       "\n",
       "    .dataframe thead th {\n",
       "        text-align: right;\n",
       "    }\n",
       "</style>\n",
       "<table border=\"1\" class=\"dataframe\">\n",
       "  <thead>\n",
       "    <tr style=\"text-align: right;\">\n",
       "      <th></th>\n",
       "      <th>0</th>\n",
       "      <th>1</th>\n",
       "      <th>2</th>\n",
       "      <th>3</th>\n",
       "      <th>4</th>\n",
       "      <th>5</th>\n",
       "      <th>6</th>\n",
       "      <th>7</th>\n",
       "      <th>8</th>\n",
       "      <th>9</th>\n",
       "      <th>...</th>\n",
       "      <th>91</th>\n",
       "      <th>92</th>\n",
       "      <th>93</th>\n",
       "      <th>94</th>\n",
       "      <th>95</th>\n",
       "      <th>96</th>\n",
       "      <th>97</th>\n",
       "      <th>98</th>\n",
       "      <th>99</th>\n",
       "      <th>Output</th>\n",
       "    </tr>\n",
       "  </thead>\n",
       "  <tbody>\n",
       "    <tr>\n",
       "      <th>599</th>\n",
       "      <td>-0.246343</td>\n",
       "      <td>0.260158</td>\n",
       "      <td>0.167681</td>\n",
       "      <td>0.113350</td>\n",
       "      <td>0.105309</td>\n",
       "      <td>-0.628881</td>\n",
       "      <td>0.206645</td>\n",
       "      <td>0.552636</td>\n",
       "      <td>-0.339653</td>\n",
       "      <td>-0.181188</td>\n",
       "      <td>...</td>\n",
       "      <td>0.234581</td>\n",
       "      <td>0.034768</td>\n",
       "      <td>0.077391</td>\n",
       "      <td>0.540700</td>\n",
       "      <td>0.253995</td>\n",
       "      <td>0.228652</td>\n",
       "      <td>-0.266944</td>\n",
       "      <td>0.212716</td>\n",
       "      <td>-0.013948</td>\n",
       "      <td>True</td>\n",
       "    </tr>\n",
       "    <tr>\n",
       "      <th>689</th>\n",
       "      <td>-0.209779</td>\n",
       "      <td>0.229642</td>\n",
       "      <td>0.151283</td>\n",
       "      <td>0.113177</td>\n",
       "      <td>0.089318</td>\n",
       "      <td>-0.550505</td>\n",
       "      <td>0.174693</td>\n",
       "      <td>0.472586</td>\n",
       "      <td>-0.293418</td>\n",
       "      <td>-0.155747</td>\n",
       "      <td>...</td>\n",
       "      <td>0.205031</td>\n",
       "      <td>0.020479</td>\n",
       "      <td>0.061909</td>\n",
       "      <td>0.472904</td>\n",
       "      <td>0.206243</td>\n",
       "      <td>0.181072</td>\n",
       "      <td>-0.237044</td>\n",
       "      <td>0.185336</td>\n",
       "      <td>-0.000202</td>\n",
       "      <td>True</td>\n",
       "    </tr>\n",
       "    <tr>\n",
       "      <th>350</th>\n",
       "      <td>-0.234882</td>\n",
       "      <td>0.253937</td>\n",
       "      <td>0.166043</td>\n",
       "      <td>0.108172</td>\n",
       "      <td>0.102404</td>\n",
       "      <td>-0.606871</td>\n",
       "      <td>0.201125</td>\n",
       "      <td>0.530884</td>\n",
       "      <td>-0.325910</td>\n",
       "      <td>-0.186044</td>\n",
       "      <td>...</td>\n",
       "      <td>0.221674</td>\n",
       "      <td>0.033519</td>\n",
       "      <td>0.074832</td>\n",
       "      <td>0.514404</td>\n",
       "      <td>0.233430</td>\n",
       "      <td>0.212140</td>\n",
       "      <td>-0.258206</td>\n",
       "      <td>0.201427</td>\n",
       "      <td>-0.014050</td>\n",
       "      <td>True</td>\n",
       "    </tr>\n",
       "    <tr>\n",
       "      <th>5197</th>\n",
       "      <td>-0.191215</td>\n",
       "      <td>0.247858</td>\n",
       "      <td>0.164465</td>\n",
       "      <td>0.119948</td>\n",
       "      <td>0.073285</td>\n",
       "      <td>-0.575585</td>\n",
       "      <td>0.188980</td>\n",
       "      <td>0.438213</td>\n",
       "      <td>-0.299606</td>\n",
       "      <td>-0.178637</td>\n",
       "      <td>...</td>\n",
       "      <td>0.220655</td>\n",
       "      <td>0.019222</td>\n",
       "      <td>0.023759</td>\n",
       "      <td>0.483450</td>\n",
       "      <td>0.172180</td>\n",
       "      <td>0.136186</td>\n",
       "      <td>-0.246332</td>\n",
       "      <td>0.217861</td>\n",
       "      <td>0.015643</td>\n",
       "      <td>False</td>\n",
       "    </tr>\n",
       "    <tr>\n",
       "      <th>440</th>\n",
       "      <td>-0.259906</td>\n",
       "      <td>0.275230</td>\n",
       "      <td>0.183802</td>\n",
       "      <td>0.130858</td>\n",
       "      <td>0.120496</td>\n",
       "      <td>-0.676596</td>\n",
       "      <td>0.207785</td>\n",
       "      <td>0.580093</td>\n",
       "      <td>-0.362867</td>\n",
       "      <td>-0.203300</td>\n",
       "      <td>...</td>\n",
       "      <td>0.245650</td>\n",
       "      <td>0.030929</td>\n",
       "      <td>0.076124</td>\n",
       "      <td>0.571083</td>\n",
       "      <td>0.253089</td>\n",
       "      <td>0.208359</td>\n",
       "      <td>-0.299763</td>\n",
       "      <td>0.225290</td>\n",
       "      <td>0.003642</td>\n",
       "      <td>True</td>\n",
       "    </tr>\n",
       "  </tbody>\n",
       "</table>\n",
       "<p>5 rows × 101 columns</p>\n",
       "</div>"
      ],
      "text/plain": [
       "             0         1         2         3         4         5         6  \\\n",
       "599  -0.246343  0.260158  0.167681  0.113350  0.105309 -0.628881  0.206645   \n",
       "689  -0.209779  0.229642  0.151283  0.113177  0.089318 -0.550505  0.174693   \n",
       "350  -0.234882  0.253937  0.166043  0.108172  0.102404 -0.606871  0.201125   \n",
       "5197 -0.191215  0.247858  0.164465  0.119948  0.073285 -0.575585  0.188980   \n",
       "440  -0.259906  0.275230  0.183802  0.130858  0.120496 -0.676596  0.207785   \n",
       "\n",
       "             7         8         9  ...        91        92        93  \\\n",
       "599   0.552636 -0.339653 -0.181188  ...  0.234581  0.034768  0.077391   \n",
       "689   0.472586 -0.293418 -0.155747  ...  0.205031  0.020479  0.061909   \n",
       "350   0.530884 -0.325910 -0.186044  ...  0.221674  0.033519  0.074832   \n",
       "5197  0.438213 -0.299606 -0.178637  ...  0.220655  0.019222  0.023759   \n",
       "440   0.580093 -0.362867 -0.203300  ...  0.245650  0.030929  0.076124   \n",
       "\n",
       "            94        95        96        97        98        99  Output  \n",
       "599   0.540700  0.253995  0.228652 -0.266944  0.212716 -0.013948    True  \n",
       "689   0.472904  0.206243  0.181072 -0.237044  0.185336 -0.000202    True  \n",
       "350   0.514404  0.233430  0.212140 -0.258206  0.201427 -0.014050    True  \n",
       "5197  0.483450  0.172180  0.136186 -0.246332  0.217861  0.015643   False  \n",
       "440   0.571083  0.253089  0.208359 -0.299763  0.225290  0.003642    True  \n",
       "\n",
       "[5 rows x 101 columns]"
      ]
     },
     "execution_count": 97,
     "metadata": {},
     "output_type": "execute_result"
    }
   ],
   "source": [
    "X_train.head()"
   ]
  },
  {
   "cell_type": "code",
   "execution_count": 98,
   "metadata": {},
   "outputs": [
    {
     "data": {
      "text/plain": [
       "599      True\n",
       "689      True\n",
       "350      True\n",
       "5197    False\n",
       "440      True\n",
       "        ...  \n",
       "4222     True\n",
       "4430     True\n",
       "3903    False\n",
       "46       True\n",
       "3157     True\n",
       "Name: Output, Length: 4445, dtype: bool"
      ]
     },
     "execution_count": 98,
     "metadata": {},
     "output_type": "execute_result"
    }
   ],
   "source": [
    "y_train"
   ]
  },
  {
   "cell_type": "code",
   "execution_count": 103,
   "metadata": {},
   "outputs": [],
   "source": [
    "from sklearn.ensemble import RandomForestClassifier\n",
    "classifier=RandomForestClassifier()"
   ]
  },
  {
   "cell_type": "code",
   "execution_count": 104,
   "metadata": {},
   "outputs": [],
   "source": [
    "X_train.columns = X_train.columns.astype(str)\n"
   ]
  },
  {
   "cell_type": "code",
   "execution_count": 105,
   "metadata": {},
   "outputs": [
    {
     "data": {
      "text/html": [
       "<style>#sk-container-id-1 {color: black;background-color: white;}#sk-container-id-1 pre{padding: 0;}#sk-container-id-1 div.sk-toggleable {background-color: white;}#sk-container-id-1 label.sk-toggleable__label {cursor: pointer;display: block;width: 100%;margin-bottom: 0;padding: 0.3em;box-sizing: border-box;text-align: center;}#sk-container-id-1 label.sk-toggleable__label-arrow:before {content: \"▸\";float: left;margin-right: 0.25em;color: #696969;}#sk-container-id-1 label.sk-toggleable__label-arrow:hover:before {color: black;}#sk-container-id-1 div.sk-estimator:hover label.sk-toggleable__label-arrow:before {color: black;}#sk-container-id-1 div.sk-toggleable__content {max-height: 0;max-width: 0;overflow: hidden;text-align: left;background-color: #f0f8ff;}#sk-container-id-1 div.sk-toggleable__content pre {margin: 0.2em;color: black;border-radius: 0.25em;background-color: #f0f8ff;}#sk-container-id-1 input.sk-toggleable__control:checked~div.sk-toggleable__content {max-height: 200px;max-width: 100%;overflow: auto;}#sk-container-id-1 input.sk-toggleable__control:checked~label.sk-toggleable__label-arrow:before {content: \"▾\";}#sk-container-id-1 div.sk-estimator input.sk-toggleable__control:checked~label.sk-toggleable__label {background-color: #d4ebff;}#sk-container-id-1 div.sk-label input.sk-toggleable__control:checked~label.sk-toggleable__label {background-color: #d4ebff;}#sk-container-id-1 input.sk-hidden--visually {border: 0;clip: rect(1px 1px 1px 1px);clip: rect(1px, 1px, 1px, 1px);height: 1px;margin: -1px;overflow: hidden;padding: 0;position: absolute;width: 1px;}#sk-container-id-1 div.sk-estimator {font-family: monospace;background-color: #f0f8ff;border: 1px dotted black;border-radius: 0.25em;box-sizing: border-box;margin-bottom: 0.5em;}#sk-container-id-1 div.sk-estimator:hover {background-color: #d4ebff;}#sk-container-id-1 div.sk-parallel-item::after {content: \"\";width: 100%;border-bottom: 1px solid gray;flex-grow: 1;}#sk-container-id-1 div.sk-label:hover label.sk-toggleable__label {background-color: #d4ebff;}#sk-container-id-1 div.sk-serial::before {content: \"\";position: absolute;border-left: 1px solid gray;box-sizing: border-box;top: 0;bottom: 0;left: 50%;z-index: 0;}#sk-container-id-1 div.sk-serial {display: flex;flex-direction: column;align-items: center;background-color: white;padding-right: 0.2em;padding-left: 0.2em;position: relative;}#sk-container-id-1 div.sk-item {position: relative;z-index: 1;}#sk-container-id-1 div.sk-parallel {display: flex;align-items: stretch;justify-content: center;background-color: white;position: relative;}#sk-container-id-1 div.sk-item::before, #sk-container-id-1 div.sk-parallel-item::before {content: \"\";position: absolute;border-left: 1px solid gray;box-sizing: border-box;top: 0;bottom: 0;left: 50%;z-index: -1;}#sk-container-id-1 div.sk-parallel-item {display: flex;flex-direction: column;z-index: 1;position: relative;background-color: white;}#sk-container-id-1 div.sk-parallel-item:first-child::after {align-self: flex-end;width: 50%;}#sk-container-id-1 div.sk-parallel-item:last-child::after {align-self: flex-start;width: 50%;}#sk-container-id-1 div.sk-parallel-item:only-child::after {width: 0;}#sk-container-id-1 div.sk-dashed-wrapped {border: 1px dashed gray;margin: 0 0.4em 0.5em 0.4em;box-sizing: border-box;padding-bottom: 0.4em;background-color: white;}#sk-container-id-1 div.sk-label label {font-family: monospace;font-weight: bold;display: inline-block;line-height: 1.2em;}#sk-container-id-1 div.sk-label-container {text-align: center;}#sk-container-id-1 div.sk-container {/* jupyter's `normalize.less` sets `[hidden] { display: none; }` but bootstrap.min.css set `[hidden] { display: none !important; }` so we also need the `!important` here to be able to override the default hidden behavior on the sphinx rendered scikit-learn.org. See: https://github.com/scikit-learn/scikit-learn/issues/21755 */display: inline-block !important;position: relative;}#sk-container-id-1 div.sk-text-repr-fallback {display: none;}</style><div id=\"sk-container-id-1\" class=\"sk-top-container\"><div class=\"sk-text-repr-fallback\"><pre>RandomForestClassifier()</pre><b>In a Jupyter environment, please rerun this cell to show the HTML representation or trust the notebook. <br />On GitHub, the HTML representation is unable to render, please try loading this page with nbviewer.org.</b></div><div class=\"sk-container\" hidden><div class=\"sk-item\"><div class=\"sk-estimator sk-toggleable\"><input class=\"sk-toggleable__control sk-hidden--visually\" id=\"sk-estimator-id-1\" type=\"checkbox\" checked><label for=\"sk-estimator-id-1\" class=\"sk-toggleable__label sk-toggleable__label-arrow\">RandomForestClassifier</label><div class=\"sk-toggleable__content\"><pre>RandomForestClassifier()</pre></div></div></div></div></div>"
      ],
      "text/plain": [
       "RandomForestClassifier()"
      ]
     },
     "execution_count": 105,
     "metadata": {},
     "output_type": "execute_result"
    }
   ],
   "source": [
    "classifier.fit(X_train,y_train)"
   ]
  },
  {
   "cell_type": "code",
   "execution_count": 107,
   "metadata": {},
   "outputs": [],
   "source": [
    "X_test.columns = X_test.columns.astype(str)"
   ]
  },
  {
   "cell_type": "code",
   "execution_count": 108,
   "metadata": {},
   "outputs": [],
   "source": [
    "y_pred=classifier.predict(X_test)"
   ]
  },
  {
   "cell_type": "code",
   "execution_count": 109,
   "metadata": {},
   "outputs": [
    {
     "name": "stdout",
     "output_type": "stream",
     "text": [
      "0.9991007194244604\n"
     ]
    }
   ],
   "source": [
    "from sklearn.metrics import accuracy_score,classification_report\n",
    "print(accuracy_score(y_test,y_pred))"
   ]
  },
  {
   "cell_type": "code",
   "execution_count": 110,
   "metadata": {},
   "outputs": [
    {
     "name": "stdout",
     "output_type": "stream",
     "text": [
      "              precision    recall  f1-score   support\n",
      "\n",
      "       False       1.00      0.99      1.00       165\n",
      "        True       1.00      1.00      1.00       947\n",
      "\n",
      "    accuracy                           1.00      1112\n",
      "   macro avg       1.00      1.00      1.00      1112\n",
      "weighted avg       1.00      1.00      1.00      1112\n",
      "\n"
     ]
    }
   ],
   "source": [
    "print(classification_report(y_test,y_pred))"
   ]
  },
  {
   "cell_type": "code",
   "execution_count": null,
   "metadata": {},
   "outputs": [],
   "source": []
  }
 ],
 "metadata": {
  "kernelspec": {
   "display_name": "Python 3 (ipykernel)",
   "language": "python",
   "name": "python3"
  },
  "language_info": {
   "codemirror_mode": {
    "name": "ipython",
    "version": 3
   },
   "file_extension": ".py",
   "mimetype": "text/x-python",
   "name": "python",
   "nbconvert_exporter": "python",
   "pygments_lexer": "ipython3",
   "version": "3.11.7"
  }
 },
 "nbformat": 4,
 "nbformat_minor": 4
}
