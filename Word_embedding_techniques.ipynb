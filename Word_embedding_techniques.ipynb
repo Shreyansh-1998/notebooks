{
  "nbformat": 4,
  "nbformat_minor": 0,
  "metadata": {
    "colab": {
      "provenance": [],
      "gpuType": "T4"
    },
    "kernelspec": {
      "name": "python3",
      "display_name": "Python 3"
    },
    "language_info": {
      "name": "python"
    },
    "accelerator": "GPU"
  },
  "cells": [
    {
      "cell_type": "code",
      "execution_count": 1,
      "metadata": {
        "colab": {
          "base_uri": "https://localhost:8080/"
        },
        "id": "RMGrbOcXa82H",
        "outputId": "dec5e05e-59d2-42cc-90d0-eea3ed946d42"
      },
      "outputs": [
        {
          "output_type": "stream",
          "name": "stdout",
          "text": [
            "Python 3.10.12\n"
          ]
        }
      ],
      "source": [
        "!python --version"
      ]
    },
    {
      "cell_type": "code",
      "source": [
        "!pip --version"
      ],
      "metadata": {
        "colab": {
          "base_uri": "https://localhost:8080/"
        },
        "id": "mbxAbMQPa-ZR",
        "outputId": "8d82cd37-7719-4316-b2e9-5b5afd380bd2"
      },
      "execution_count": 2,
      "outputs": [
        {
          "output_type": "stream",
          "name": "stdout",
          "text": [
            "pip 23.1.2 from /usr/local/lib/python3.10/dist-packages/pip (python 3.10)\n"
          ]
        }
      ]
    },
    {
      "cell_type": "code",
      "source": [
        "pip install tensorflow-gpu"
      ],
      "metadata": {
        "colab": {
          "base_uri": "https://localhost:8080/"
        },
        "id": "3zDHy3x4bDxw",
        "outputId": "b77e5dee-c0f6-4118-9496-e526640a7d3b"
      },
      "execution_count": 4,
      "outputs": [
        {
          "output_type": "stream",
          "name": "stdout",
          "text": [
            "Collecting tensorflow-gpu\n",
            "  Using cached tensorflow-gpu-2.12.0.tar.gz (2.6 kB)\n",
            "  \u001b[1;31merror\u001b[0m: \u001b[1msubprocess-exited-with-error\u001b[0m\n",
            "  \n",
            "  \u001b[31m×\u001b[0m \u001b[32mpython setup.py egg_info\u001b[0m did not run successfully.\n",
            "  \u001b[31m│\u001b[0m exit code: \u001b[1;36m1\u001b[0m\n",
            "  \u001b[31m╰─>\u001b[0m See above for output.\n",
            "  \n",
            "  \u001b[1;35mnote\u001b[0m: This error originates from a subprocess, and is likely not a problem with pip.\n",
            "  Preparing metadata (setup.py) ... \u001b[?25l\u001b[?25herror\n",
            "\u001b[1;31merror\u001b[0m: \u001b[1mmetadata-generation-failed\u001b[0m\n",
            "\n",
            "\u001b[31m×\u001b[0m Encountered error while generating package metadata.\n",
            "\u001b[31m╰─>\u001b[0m See above for output.\n",
            "\n",
            "\u001b[1;35mnote\u001b[0m: This is an issue with the package mentioned above, not pip.\n",
            "\u001b[1;36mhint\u001b[0m: See above for details.\n"
          ]
        }
      ]
    },
    {
      "cell_type": "code",
      "source": [
        "!pip install --upgrade pip setuptools wheel\n"
      ],
      "metadata": {
        "colab": {
          "base_uri": "https://localhost:8080/",
          "height": 492
        },
        "id": "ZqFC9s9VbGsS",
        "outputId": "27516ac0-60eb-4722-90f4-d8c682537298"
      },
      "execution_count": 5,
      "outputs": [
        {
          "output_type": "stream",
          "name": "stdout",
          "text": [
            "Requirement already satisfied: pip in /usr/local/lib/python3.10/dist-packages (23.1.2)\n",
            "Collecting pip\n",
            "  Downloading pip-24.0-py3-none-any.whl (2.1 MB)\n",
            "\u001b[2K     \u001b[90m━━━━━━━━━━━━━━━━━━━━━━━━━━━━━━━━━━━━━━━━\u001b[0m \u001b[32m2.1/2.1 MB\u001b[0m \u001b[31m8.0 MB/s\u001b[0m eta \u001b[36m0:00:00\u001b[0m\n",
            "\u001b[?25hRequirement already satisfied: setuptools in /usr/local/lib/python3.10/dist-packages (67.7.2)\n",
            "Collecting setuptools\n",
            "  Using cached setuptools-69.2.0-py3-none-any.whl (821 kB)\n",
            "Requirement already satisfied: wheel in /usr/local/lib/python3.10/dist-packages (0.43.0)\n",
            "Installing collected packages: setuptools, pip\n",
            "  Attempting uninstall: setuptools\n",
            "    Found existing installation: setuptools 67.7.2\n",
            "    Uninstalling setuptools-67.7.2:\n",
            "      Successfully uninstalled setuptools-67.7.2\n",
            "  Attempting uninstall: pip\n",
            "    Found existing installation: pip 23.1.2\n",
            "    Uninstalling pip-23.1.2:\n",
            "      Successfully uninstalled pip-23.1.2\n",
            "\u001b[31mERROR: pip's dependency resolver does not currently take into account all the packages that are installed. This behaviour is the source of the following dependency conflicts.\n",
            "ipython 7.34.0 requires jedi>=0.16, which is not installed.\u001b[0m\u001b[31m\n",
            "\u001b[0mSuccessfully installed pip-24.0 setuptools-69.2.0\n"
          ]
        },
        {
          "output_type": "display_data",
          "data": {
            "application/vnd.colab-display-data+json": {
              "pip_warning": {
                "packages": [
                  "_distutils_hack",
                  "pkg_resources",
                  "setuptools"
                ]
              },
              "id": "38f43a96656145dca7f89c42f1924f00"
            }
          },
          "metadata": {}
        }
      ]
    },
    {
      "cell_type": "code",
      "source": [
        "pip --version"
      ],
      "metadata": {
        "colab": {
          "base_uri": "https://localhost:8080/"
        },
        "id": "X7eVh3-4btew",
        "outputId": "c86bb8ab-30d6-4061-f377-2106aebf3380"
      },
      "execution_count": 1,
      "outputs": [
        {
          "output_type": "stream",
          "name": "stdout",
          "text": [
            "pip 24.0 from /usr/local/lib/python3.10/dist-packages/pip (python 3.10)\n"
          ]
        }
      ]
    },
    {
      "cell_type": "code",
      "source": [
        "pip install tensorflow"
      ],
      "metadata": {
        "colab": {
          "base_uri": "https://localhost:8080/"
        },
        "id": "GFYaTlVobuuB",
        "outputId": "f99d599b-e8be-41f2-88ac-123a1e4a6e22"
      },
      "execution_count": 2,
      "outputs": [
        {
          "output_type": "stream",
          "name": "stdout",
          "text": [
            "Requirement already satisfied: tensorflow in /usr/local/lib/python3.10/dist-packages (2.15.0)\n",
            "Requirement already satisfied: absl-py>=1.0.0 in /usr/local/lib/python3.10/dist-packages (from tensorflow) (1.4.0)\n",
            "Requirement already satisfied: astunparse>=1.6.0 in /usr/local/lib/python3.10/dist-packages (from tensorflow) (1.6.3)\n",
            "Requirement already satisfied: flatbuffers>=23.5.26 in /usr/local/lib/python3.10/dist-packages (from tensorflow) (24.3.25)\n",
            "Requirement already satisfied: gast!=0.5.0,!=0.5.1,!=0.5.2,>=0.2.1 in /usr/local/lib/python3.10/dist-packages (from tensorflow) (0.5.4)\n",
            "Requirement already satisfied: google-pasta>=0.1.1 in /usr/local/lib/python3.10/dist-packages (from tensorflow) (0.2.0)\n",
            "Requirement already satisfied: h5py>=2.9.0 in /usr/local/lib/python3.10/dist-packages (from tensorflow) (3.9.0)\n",
            "Requirement already satisfied: libclang>=13.0.0 in /usr/local/lib/python3.10/dist-packages (from tensorflow) (18.1.1)\n",
            "Requirement already satisfied: ml-dtypes~=0.2.0 in /usr/local/lib/python3.10/dist-packages (from tensorflow) (0.2.0)\n",
            "Requirement already satisfied: numpy<2.0.0,>=1.23.5 in /usr/local/lib/python3.10/dist-packages (from tensorflow) (1.25.2)\n",
            "Requirement already satisfied: opt-einsum>=2.3.2 in /usr/local/lib/python3.10/dist-packages (from tensorflow) (3.3.0)\n",
            "Requirement already satisfied: packaging in /usr/local/lib/python3.10/dist-packages (from tensorflow) (24.0)\n",
            "Requirement already satisfied: protobuf!=4.21.0,!=4.21.1,!=4.21.2,!=4.21.3,!=4.21.4,!=4.21.5,<5.0.0dev,>=3.20.3 in /usr/local/lib/python3.10/dist-packages (from tensorflow) (3.20.3)\n",
            "Requirement already satisfied: setuptools in /usr/local/lib/python3.10/dist-packages (from tensorflow) (69.2.0)\n",
            "Requirement already satisfied: six>=1.12.0 in /usr/local/lib/python3.10/dist-packages (from tensorflow) (1.16.0)\n",
            "Requirement already satisfied: termcolor>=1.1.0 in /usr/local/lib/python3.10/dist-packages (from tensorflow) (2.4.0)\n",
            "Requirement already satisfied: typing-extensions>=3.6.6 in /usr/local/lib/python3.10/dist-packages (from tensorflow) (4.10.0)\n",
            "Requirement already satisfied: wrapt<1.15,>=1.11.0 in /usr/local/lib/python3.10/dist-packages (from tensorflow) (1.14.1)\n",
            "Requirement already satisfied: tensorflow-io-gcs-filesystem>=0.23.1 in /usr/local/lib/python3.10/dist-packages (from tensorflow) (0.36.0)\n",
            "Requirement already satisfied: grpcio<2.0,>=1.24.3 in /usr/local/lib/python3.10/dist-packages (from tensorflow) (1.62.1)\n",
            "Requirement already satisfied: tensorboard<2.16,>=2.15 in /usr/local/lib/python3.10/dist-packages (from tensorflow) (2.15.2)\n",
            "Requirement already satisfied: tensorflow-estimator<2.16,>=2.15.0 in /usr/local/lib/python3.10/dist-packages (from tensorflow) (2.15.0)\n",
            "Requirement already satisfied: keras<2.16,>=2.15.0 in /usr/local/lib/python3.10/dist-packages (from tensorflow) (2.15.0)\n",
            "Requirement already satisfied: wheel<1.0,>=0.23.0 in /usr/local/lib/python3.10/dist-packages (from astunparse>=1.6.0->tensorflow) (0.43.0)\n",
            "Requirement already satisfied: google-auth<3,>=1.6.3 in /usr/local/lib/python3.10/dist-packages (from tensorboard<2.16,>=2.15->tensorflow) (2.27.0)\n",
            "Requirement already satisfied: google-auth-oauthlib<2,>=0.5 in /usr/local/lib/python3.10/dist-packages (from tensorboard<2.16,>=2.15->tensorflow) (1.2.0)\n",
            "Requirement already satisfied: markdown>=2.6.8 in /usr/local/lib/python3.10/dist-packages (from tensorboard<2.16,>=2.15->tensorflow) (3.6)\n",
            "Requirement already satisfied: requests<3,>=2.21.0 in /usr/local/lib/python3.10/dist-packages (from tensorboard<2.16,>=2.15->tensorflow) (2.31.0)\n",
            "Requirement already satisfied: tensorboard-data-server<0.8.0,>=0.7.0 in /usr/local/lib/python3.10/dist-packages (from tensorboard<2.16,>=2.15->tensorflow) (0.7.2)\n",
            "Requirement already satisfied: werkzeug>=1.0.1 in /usr/local/lib/python3.10/dist-packages (from tensorboard<2.16,>=2.15->tensorflow) (3.0.2)\n",
            "Requirement already satisfied: cachetools<6.0,>=2.0.0 in /usr/local/lib/python3.10/dist-packages (from google-auth<3,>=1.6.3->tensorboard<2.16,>=2.15->tensorflow) (5.3.3)\n",
            "Requirement already satisfied: pyasn1-modules>=0.2.1 in /usr/local/lib/python3.10/dist-packages (from google-auth<3,>=1.6.3->tensorboard<2.16,>=2.15->tensorflow) (0.4.0)\n",
            "Requirement already satisfied: rsa<5,>=3.1.4 in /usr/local/lib/python3.10/dist-packages (from google-auth<3,>=1.6.3->tensorboard<2.16,>=2.15->tensorflow) (4.9)\n",
            "Requirement already satisfied: requests-oauthlib>=0.7.0 in /usr/local/lib/python3.10/dist-packages (from google-auth-oauthlib<2,>=0.5->tensorboard<2.16,>=2.15->tensorflow) (1.3.1)\n",
            "Requirement already satisfied: charset-normalizer<4,>=2 in /usr/local/lib/python3.10/dist-packages (from requests<3,>=2.21.0->tensorboard<2.16,>=2.15->tensorflow) (3.3.2)\n",
            "Requirement already satisfied: idna<4,>=2.5 in /usr/local/lib/python3.10/dist-packages (from requests<3,>=2.21.0->tensorboard<2.16,>=2.15->tensorflow) (3.6)\n",
            "Requirement already satisfied: urllib3<3,>=1.21.1 in /usr/local/lib/python3.10/dist-packages (from requests<3,>=2.21.0->tensorboard<2.16,>=2.15->tensorflow) (2.0.7)\n",
            "Requirement already satisfied: certifi>=2017.4.17 in /usr/local/lib/python3.10/dist-packages (from requests<3,>=2.21.0->tensorboard<2.16,>=2.15->tensorflow) (2024.2.2)\n",
            "Requirement already satisfied: MarkupSafe>=2.1.1 in /usr/local/lib/python3.10/dist-packages (from werkzeug>=1.0.1->tensorboard<2.16,>=2.15->tensorflow) (2.1.5)\n",
            "Requirement already satisfied: pyasn1<0.7.0,>=0.4.6 in /usr/local/lib/python3.10/dist-packages (from pyasn1-modules>=0.2.1->google-auth<3,>=1.6.3->tensorboard<2.16,>=2.15->tensorflow) (0.6.0)\n",
            "Requirement already satisfied: oauthlib>=3.0.0 in /usr/local/lib/python3.10/dist-packages (from requests-oauthlib>=0.7.0->google-auth-oauthlib<2,>=0.5->tensorboard<2.16,>=2.15->tensorflow) (3.2.2)\n",
            "\u001b[33mWARNING: Running pip as the 'root' user can result in broken permissions and conflicting behaviour with the system package manager. It is recommended to use a virtual environment instead: https://pip.pypa.io/warnings/venv\u001b[0m\u001b[33m\n",
            "\u001b[0m"
          ]
        }
      ]
    },
    {
      "cell_type": "code",
      "source": [
        "import tensorflow as tf\n"
      ],
      "metadata": {
        "id": "s2TFq3X3b6NY"
      },
      "execution_count": 3,
      "outputs": []
    },
    {
      "cell_type": "code",
      "source": [
        "print(tf.__version__)"
      ],
      "metadata": {
        "colab": {
          "base_uri": "https://localhost:8080/"
        },
        "id": "A6g5GPqbc_ej",
        "outputId": "4290de84-0380-4244-8bb5-bc6f31976965"
      },
      "execution_count": 6,
      "outputs": [
        {
          "output_type": "stream",
          "name": "stdout",
          "text": [
            "2.15.0\n"
          ]
        }
      ]
    },
    {
      "cell_type": "code",
      "source": [
        "tf.test.gpu_device_name()\n"
      ],
      "metadata": {
        "colab": {
          "base_uri": "https://localhost:8080/",
          "height": 35
        },
        "id": "MegTVwl8cgAU",
        "outputId": "17ed2aba-9f95-4214-b0ee-e0f01bd54b4a"
      },
      "execution_count": 4,
      "outputs": [
        {
          "output_type": "execute_result",
          "data": {
            "text/plain": [
              "'/device:GPU:0'"
            ],
            "application/vnd.google.colaboratory.intrinsic+json": {
              "type": "string"
            }
          },
          "metadata": {},
          "execution_count": 4
        }
      ]
    },
    {
      "cell_type": "code",
      "source": [
        "from tensorflow.keras.preprocessing.text import one_hot"
      ],
      "metadata": {
        "id": "yO2LCFiZcn38"
      },
      "execution_count": 4,
      "outputs": []
    },
    {
      "cell_type": "code",
      "source": [
        "### sentences\n",
        "sent=[ 'the glass of milk',\n",
        "     'the glass of juice',\n",
        "     'the cup of tea',\n",
        "     'I am a good boy',\n",
        "     'I am a good developer',\n",
        "     'understand the meaning of words',\n",
        "     'your videos are good']"
      ],
      "metadata": {
        "id": "vhzrpTU4ctDL"
      },
      "execution_count": 8,
      "outputs": []
    },
    {
      "cell_type": "code",
      "source": [
        "sent"
      ],
      "metadata": {
        "colab": {
          "base_uri": "https://localhost:8080/"
        },
        "id": "3ZCwU1fKdHFE",
        "outputId": "81ac4858-aa89-4a97-aed7-0cf4459821ec"
      },
      "execution_count": 9,
      "outputs": [
        {
          "output_type": "execute_result",
          "data": {
            "text/plain": [
              "['the glass of milk',\n",
              " 'the glass of juice',\n",
              " 'the cup of tea',\n",
              " 'I am a good boy',\n",
              " 'I am a good developer',\n",
              " 'understand the meaning of words',\n",
              " 'your videos are good']"
            ]
          },
          "metadata": {},
          "execution_count": 9
        }
      ]
    },
    {
      "cell_type": "code",
      "source": [
        "### define a vocab_size\n",
        "voc_size=500"
      ],
      "metadata": {
        "id": "Q3S4WMCYdPo8"
      },
      "execution_count": 6,
      "outputs": []
    },
    {
      "cell_type": "markdown",
      "source": [
        "# ONE HOT REPRESENTATION"
      ],
      "metadata": {
        "id": "AYhDy4PHdZCv"
      }
    },
    {
      "cell_type": "code",
      "source": [
        "onehot_repr=[one_hot(words,voc_size)for words in sent]\n",
        "print(onehot_repr)"
      ],
      "metadata": {
        "colab": {
          "base_uri": "https://localhost:8080/"
        },
        "id": "PCWtwM4OdcDm",
        "outputId": "177d8282-0582-49e4-e8c4-7f7210fb9f1d"
      },
      "execution_count": 16,
      "outputs": [
        {
          "output_type": "stream",
          "name": "stdout",
          "text": [
            "[[347, 94, 296, 19], [347, 94, 296, 173], [347, 278, 296, 8], [234, 314, 22, 302, 130], [234, 314, 22, 302, 411], [102, 347, 190, 296, 61], [59, 373, 54, 302]]\n"
          ]
        }
      ]
    },
    {
      "cell_type": "markdown",
      "source": [
        "# WORD EMBEDDING REPRESENTATION"
      ],
      "metadata": {
        "id": "gY6KBgsAeKey"
      }
    },
    {
      "cell_type": "code",
      "source": [
        "from tensorflow.keras.layers import Embedding\n",
        "from tensorflow.keras.preprocessing.sequence import pad_sequences ##to ensure all the sentences are of same length(we do padding)\n",
        "from tensorflow.keras.models import Sequential"
      ],
      "metadata": {
        "id": "PLZXRJRXeQAo"
      },
      "execution_count": 10,
      "outputs": []
    },
    {
      "cell_type": "code",
      "source": [
        "import numpy as np"
      ],
      "metadata": {
        "id": "05MjkbyseqWS"
      },
      "execution_count": 11,
      "outputs": []
    },
    {
      "cell_type": "code",
      "source": [
        "## pre padding(zeroes added before)\n",
        "sent_length=8\n",
        "embedded_docs=pad_sequences(onehot_repr,padding='pre',maxlen=sent_length)\n",
        "print(embedded_docs)"
      ],
      "metadata": {
        "colab": {
          "base_uri": "https://localhost:8080/"
        },
        "id": "ouvVfs4yev6C",
        "outputId": "b27cb69b-dd02-4984-a614-b3e5ad91268c"
      },
      "execution_count": 18,
      "outputs": [
        {
          "output_type": "stream",
          "name": "stdout",
          "text": [
            "[[  0   0   0   0 347  94 296  19]\n",
            " [  0   0   0   0 347  94 296 173]\n",
            " [  0   0   0   0 347 278 296   8]\n",
            " [  0   0   0 234 314  22 302 130]\n",
            " [  0   0   0 234 314  22 302 411]\n",
            " [  0   0   0 102 347 190 296  61]\n",
            " [  0   0   0   0  59 373  54 302]]\n"
          ]
        }
      ]
    },
    {
      "cell_type": "code",
      "source": [
        "#feature represenation dimensions(vector represention) depends on how large the dataset is, it represents each index as vector representation\n",
        "dim=10"
      ],
      "metadata": {
        "id": "NkCh8yAFf2dn"
      },
      "execution_count": 22,
      "outputs": []
    },
    {
      "cell_type": "code",
      "source": [
        "model=Sequential()\n",
        "model.add(Embedding(voc_size,10,input_length=sent_length))\n",
        "model.compile('adam','mse')"
      ],
      "metadata": {
        "id": "pmmqx6lrgkP4"
      },
      "execution_count": 20,
      "outputs": []
    },
    {
      "cell_type": "code",
      "source": [
        "model.summary()"
      ],
      "metadata": {
        "colab": {
          "base_uri": "https://localhost:8080/"
        },
        "id": "TuKXAP9Ng4Di",
        "outputId": "f5afdde5-e64f-43be-ab65-fab4416d375e"
      },
      "execution_count": 21,
      "outputs": [
        {
          "output_type": "stream",
          "name": "stdout",
          "text": [
            "Model: \"sequential\"\n",
            "_________________________________________________________________\n",
            " Layer (type)                Output Shape              Param #   \n",
            "=================================================================\n",
            " embedding (Embedding)       (None, 8, 10)             5000      \n",
            "                                                                 \n",
            "=================================================================\n",
            "Total params: 5000 (19.53 KB)\n",
            "Trainable params: 5000 (19.53 KB)\n",
            "Non-trainable params: 0 (0.00 Byte)\n",
            "_________________________________________________________________\n"
          ]
        }
      ]
    },
    {
      "cell_type": "code",
      "source": [
        "#This is how the first sentence is vector represented\n",
        "model.predict(embedded_docs[0])"
      ],
      "metadata": {
        "colab": {
          "base_uri": "https://localhost:8080/"
        },
        "id": "68GrO-P9hN2U",
        "outputId": "668a2073-739c-4544-c860-5a3e61296cc7"
      },
      "execution_count": 24,
      "outputs": [
        {
          "output_type": "stream",
          "name": "stdout",
          "text": [
            "1/1 [==============================] - 0s 114ms/step\n"
          ]
        },
        {
          "output_type": "execute_result",
          "data": {
            "text/plain": [
              "array([[ 0.0383484 ,  0.02242787,  0.00215833, -0.02564207, -0.01184119,\n",
              "         0.04181245,  0.04613335,  0.04229114, -0.00847093, -0.02311238],\n",
              "       [ 0.0383484 ,  0.02242787,  0.00215833, -0.02564207, -0.01184119,\n",
              "         0.04181245,  0.04613335,  0.04229114, -0.00847093, -0.02311238],\n",
              "       [ 0.0383484 ,  0.02242787,  0.00215833, -0.02564207, -0.01184119,\n",
              "         0.04181245,  0.04613335,  0.04229114, -0.00847093, -0.02311238],\n",
              "       [ 0.0383484 ,  0.02242787,  0.00215833, -0.02564207, -0.01184119,\n",
              "         0.04181245,  0.04613335,  0.04229114, -0.00847093, -0.02311238],\n",
              "       [ 0.04834289,  0.04343935,  0.03196228,  0.03399533,  0.04723673,\n",
              "        -0.02848938,  0.0190212 , -0.02155898,  0.01176723,  0.04387097],\n",
              "       [ 0.02549181,  0.02513092, -0.01478939,  0.0371428 ,  0.03540986,\n",
              "         0.03083385, -0.01969227, -0.01128118,  0.01568128, -0.02249426],\n",
              "       [ 0.01487056, -0.02218933, -0.009503  , -0.02134066, -0.03849093,\n",
              "         0.01663813,  0.01693671,  0.00229919, -0.04658703,  0.00170166],\n",
              "       [-0.00013166, -0.04484273, -0.01942237,  0.03639833,  0.04742834,\n",
              "        -0.00974206, -0.04765434, -0.04630064, -0.0499387 ,  0.04749962]],\n",
              "      dtype=float32)"
            ]
          },
          "metadata": {},
          "execution_count": 24
        }
      ]
    },
    {
      "cell_type": "code",
      "source": [
        "embedded_docs[0]"
      ],
      "metadata": {
        "colab": {
          "base_uri": "https://localhost:8080/"
        },
        "id": "SBnfPhalhQ1h",
        "outputId": "0242bfde-5165-43e3-90f4-6f80699f50e3"
      },
      "execution_count": 25,
      "outputs": [
        {
          "output_type": "execute_result",
          "data": {
            "text/plain": [
              "array([  0,   0,   0,   0, 347,  94, 296,  19], dtype=int32)"
            ]
          },
          "metadata": {},
          "execution_count": 25
        }
      ]
    },
    {
      "cell_type": "code",
      "source": [
        "#For all the sentences\n",
        "print(model.predict(embedded_docs))"
      ],
      "metadata": {
        "colab": {
          "base_uri": "https://localhost:8080/"
        },
        "id": "AXXJU1KCheFs",
        "outputId": "a290d8e5-8921-4493-9fbe-e6854f757c09"
      },
      "execution_count": 27,
      "outputs": [
        {
          "output_type": "stream",
          "name": "stdout",
          "text": [
            "1/1 [==============================] - 0s 39ms/step\n",
            "[[[ 0.0383484   0.02242787  0.00215833 -0.02564207 -0.01184119\n",
            "    0.04181245  0.04613335  0.04229114 -0.00847093 -0.02311238]\n",
            "  [ 0.0383484   0.02242787  0.00215833 -0.02564207 -0.01184119\n",
            "    0.04181245  0.04613335  0.04229114 -0.00847093 -0.02311238]\n",
            "  [ 0.0383484   0.02242787  0.00215833 -0.02564207 -0.01184119\n",
            "    0.04181245  0.04613335  0.04229114 -0.00847093 -0.02311238]\n",
            "  [ 0.0383484   0.02242787  0.00215833 -0.02564207 -0.01184119\n",
            "    0.04181245  0.04613335  0.04229114 -0.00847093 -0.02311238]\n",
            "  [ 0.04834289  0.04343935  0.03196228  0.03399533  0.04723673\n",
            "   -0.02848938  0.0190212  -0.02155898  0.01176723  0.04387097]\n",
            "  [ 0.02549181  0.02513092 -0.01478939  0.0371428   0.03540986\n",
            "    0.03083385 -0.01969227 -0.01128118  0.01568128 -0.02249426]\n",
            "  [ 0.01487056 -0.02218933 -0.009503   -0.02134066 -0.03849093\n",
            "    0.01663813  0.01693671  0.00229919 -0.04658703  0.00170166]\n",
            "  [-0.00013166 -0.04484273 -0.01942237  0.03639833  0.04742834\n",
            "   -0.00974206 -0.04765434 -0.04630064 -0.0499387   0.04749962]]\n",
            "\n",
            " [[ 0.0383484   0.02242787  0.00215833 -0.02564207 -0.01184119\n",
            "    0.04181245  0.04613335  0.04229114 -0.00847093 -0.02311238]\n",
            "  [ 0.0383484   0.02242787  0.00215833 -0.02564207 -0.01184119\n",
            "    0.04181245  0.04613335  0.04229114 -0.00847093 -0.02311238]\n",
            "  [ 0.0383484   0.02242787  0.00215833 -0.02564207 -0.01184119\n",
            "    0.04181245  0.04613335  0.04229114 -0.00847093 -0.02311238]\n",
            "  [ 0.0383484   0.02242787  0.00215833 -0.02564207 -0.01184119\n",
            "    0.04181245  0.04613335  0.04229114 -0.00847093 -0.02311238]\n",
            "  [ 0.04834289  0.04343935  0.03196228  0.03399533  0.04723673\n",
            "   -0.02848938  0.0190212  -0.02155898  0.01176723  0.04387097]\n",
            "  [ 0.02549181  0.02513092 -0.01478939  0.0371428   0.03540986\n",
            "    0.03083385 -0.01969227 -0.01128118  0.01568128 -0.02249426]\n",
            "  [ 0.01487056 -0.02218933 -0.009503   -0.02134066 -0.03849093\n",
            "    0.01663813  0.01693671  0.00229919 -0.04658703  0.00170166]\n",
            "  [-0.04394295 -0.01930727 -0.00648502  0.00349567  0.04587502\n",
            "   -0.0426212  -0.00645233 -0.02650642 -0.02585449 -0.0326859 ]]\n",
            "\n",
            " [[ 0.0383484   0.02242787  0.00215833 -0.02564207 -0.01184119\n",
            "    0.04181245  0.04613335  0.04229114 -0.00847093 -0.02311238]\n",
            "  [ 0.0383484   0.02242787  0.00215833 -0.02564207 -0.01184119\n",
            "    0.04181245  0.04613335  0.04229114 -0.00847093 -0.02311238]\n",
            "  [ 0.0383484   0.02242787  0.00215833 -0.02564207 -0.01184119\n",
            "    0.04181245  0.04613335  0.04229114 -0.00847093 -0.02311238]\n",
            "  [ 0.0383484   0.02242787  0.00215833 -0.02564207 -0.01184119\n",
            "    0.04181245  0.04613335  0.04229114 -0.00847093 -0.02311238]\n",
            "  [ 0.04834289  0.04343935  0.03196228  0.03399533  0.04723673\n",
            "   -0.02848938  0.0190212  -0.02155898  0.01176723  0.04387097]\n",
            "  [-0.00618178  0.00631838 -0.02547789 -0.01925851 -0.02551336\n",
            "   -0.03288236  0.04668362  0.01073122  0.04257292 -0.0144713 ]\n",
            "  [ 0.01487056 -0.02218933 -0.009503   -0.02134066 -0.03849093\n",
            "    0.01663813  0.01693671  0.00229919 -0.04658703  0.00170166]\n",
            "  [-0.0022645   0.04209084  0.00758027 -0.04950951  0.04659617\n",
            "    0.04199486 -0.04247415 -0.02487862 -0.04823984  0.0236148 ]]\n",
            "\n",
            " [[ 0.0383484   0.02242787  0.00215833 -0.02564207 -0.01184119\n",
            "    0.04181245  0.04613335  0.04229114 -0.00847093 -0.02311238]\n",
            "  [ 0.0383484   0.02242787  0.00215833 -0.02564207 -0.01184119\n",
            "    0.04181245  0.04613335  0.04229114 -0.00847093 -0.02311238]\n",
            "  [ 0.0383484   0.02242787  0.00215833 -0.02564207 -0.01184119\n",
            "    0.04181245  0.04613335  0.04229114 -0.00847093 -0.02311238]\n",
            "  [-0.03800273 -0.03797318 -0.04510919  0.01557438  0.01108378\n",
            "   -0.02022615 -0.01151145 -0.01405324 -0.04852147  0.02544964]\n",
            "  [ 0.0444842   0.03658607 -0.01915273  0.03985089  0.01608342\n",
            "    0.02234501  0.01817808  0.02278722  0.0457906   0.03548353]\n",
            "  [ 0.00649772 -0.03563581 -0.03550803 -0.03825223 -0.00243597\n",
            "   -0.00212445  0.04419282  0.00165699  0.04371032 -0.01796012]\n",
            "  [-0.00137082  0.01094349  0.03014119 -0.02535602 -0.00147877\n",
            "    0.01279864 -0.04479669 -0.04904893  0.04899224  0.03470503]\n",
            "  [-0.03631506 -0.01498684 -0.04079721 -0.0185675  -0.01145104\n",
            "   -0.02522975  0.01314855  0.04150048 -0.00581989  0.03151137]]\n",
            "\n",
            " [[ 0.0383484   0.02242787  0.00215833 -0.02564207 -0.01184119\n",
            "    0.04181245  0.04613335  0.04229114 -0.00847093 -0.02311238]\n",
            "  [ 0.0383484   0.02242787  0.00215833 -0.02564207 -0.01184119\n",
            "    0.04181245  0.04613335  0.04229114 -0.00847093 -0.02311238]\n",
            "  [ 0.0383484   0.02242787  0.00215833 -0.02564207 -0.01184119\n",
            "    0.04181245  0.04613335  0.04229114 -0.00847093 -0.02311238]\n",
            "  [-0.03800273 -0.03797318 -0.04510919  0.01557438  0.01108378\n",
            "   -0.02022615 -0.01151145 -0.01405324 -0.04852147  0.02544964]\n",
            "  [ 0.0444842   0.03658607 -0.01915273  0.03985089  0.01608342\n",
            "    0.02234501  0.01817808  0.02278722  0.0457906   0.03548353]\n",
            "  [ 0.00649772 -0.03563581 -0.03550803 -0.03825223 -0.00243597\n",
            "   -0.00212445  0.04419282  0.00165699  0.04371032 -0.01796012]\n",
            "  [-0.00137082  0.01094349  0.03014119 -0.02535602 -0.00147877\n",
            "    0.01279864 -0.04479669 -0.04904893  0.04899224  0.03470503]\n",
            "  [-0.04362378  0.03476546  0.00796908  0.03134738  0.02122351\n",
            "    0.01033079 -0.01716094 -0.03597943  0.04377684 -0.03337236]]\n",
            "\n",
            " [[ 0.0383484   0.02242787  0.00215833 -0.02564207 -0.01184119\n",
            "    0.04181245  0.04613335  0.04229114 -0.00847093 -0.02311238]\n",
            "  [ 0.0383484   0.02242787  0.00215833 -0.02564207 -0.01184119\n",
            "    0.04181245  0.04613335  0.04229114 -0.00847093 -0.02311238]\n",
            "  [ 0.0383484   0.02242787  0.00215833 -0.02564207 -0.01184119\n",
            "    0.04181245  0.04613335  0.04229114 -0.00847093 -0.02311238]\n",
            "  [-0.01631801  0.03057537  0.01141923 -0.00303171  0.03798355\n",
            "    0.0097309  -0.02036464 -0.01383721 -0.04358051 -0.04820261]\n",
            "  [ 0.04834289  0.04343935  0.03196228  0.03399533  0.04723673\n",
            "   -0.02848938  0.0190212  -0.02155898  0.01176723  0.04387097]\n",
            "  [ 0.02436562  0.00963435  0.03898592 -0.01983762 -0.0123372\n",
            "   -0.04182081 -0.00728948  0.0253605  -0.01192493 -0.00791751]\n",
            "  [ 0.01487056 -0.02218933 -0.009503   -0.02134066 -0.03849093\n",
            "    0.01663813  0.01693671  0.00229919 -0.04658703  0.00170166]\n",
            "  [ 0.00791913 -0.00558482  0.04114752  0.04540718 -0.00920638\n",
            "    0.04692227 -0.0418823   0.04533062  0.00350232  0.02897732]]\n",
            "\n",
            " [[ 0.0383484   0.02242787  0.00215833 -0.02564207 -0.01184119\n",
            "    0.04181245  0.04613335  0.04229114 -0.00847093 -0.02311238]\n",
            "  [ 0.0383484   0.02242787  0.00215833 -0.02564207 -0.01184119\n",
            "    0.04181245  0.04613335  0.04229114 -0.00847093 -0.02311238]\n",
            "  [ 0.0383484   0.02242787  0.00215833 -0.02564207 -0.01184119\n",
            "    0.04181245  0.04613335  0.04229114 -0.00847093 -0.02311238]\n",
            "  [ 0.0383484   0.02242787  0.00215833 -0.02564207 -0.01184119\n",
            "    0.04181245  0.04613335  0.04229114 -0.00847093 -0.02311238]\n",
            "  [ 0.00560502  0.00766679 -0.04013018  0.03786501  0.03380903\n",
            "    0.02536919  0.03517273 -0.03817257 -0.03005166 -0.00334268]\n",
            "  [-0.01934658 -0.01650484 -0.00701072 -0.04117004  0.03104286\n",
            "    0.04703096 -0.01274168  0.03430227 -0.03666476  0.00106559]\n",
            "  [-0.02506254 -0.04081251  0.03932229  0.01022428 -0.00652308\n",
            "    0.03010451 -0.00513121 -0.04492408  0.03537181 -0.00725586]\n",
            "  [-0.00137082  0.01094349  0.03014119 -0.02535602 -0.00147877\n",
            "    0.01279864 -0.04479669 -0.04904893  0.04899224  0.03470503]]]\n"
          ]
        }
      ]
    },
    {
      "cell_type": "code",
      "source": [
        "sentence=[\"The world is a better place\",\n",
        "      \"Marvel series is my favourite movie\",\n",
        "      \"I like DC movies\",\n",
        "      \"Cat is eating the food\",\n",
        "      \"Tom and Jerry is my favourite cartoon \",\n",
        "      \"Python is my favourite progamming language\"]"
      ],
      "metadata": {
        "id": "p2tEjL9ehzkq"
      },
      "execution_count": 1,
      "outputs": []
    },
    {
      "cell_type": "markdown",
      "source": [
        "# Now applying ONE HOT Encoding"
      ],
      "metadata": {
        "id": "TjzqMNgoEEkB"
      }
    },
    {
      "cell_type": "code",
      "source": [
        "ohe=[one_hot(words,voc_size)for words in sentence]\n",
        "print(ohe)"
      ],
      "metadata": {
        "colab": {
          "base_uri": "https://localhost:8080/"
        },
        "id": "SeWoltNQENDw",
        "outputId": "ceb3e3a9-4db6-4a80-aebe-777ae72bc580"
      },
      "execution_count": 9,
      "outputs": [
        {
          "output_type": "stream",
          "name": "stdout",
          "text": [
            "[[238, 466, 129, 325, 384, 289], [199, 474, 129, 398, 365, 436], [359, 250, 171, 439], [48, 129, 273, 238, 237], [193, 386, 172, 129, 398, 365, 83], [251, 129, 398, 365, 214, 192]]\n"
          ]
        }
      ]
    },
    {
      "cell_type": "code",
      "source": [
        "dimensions=10"
      ],
      "metadata": {
        "id": "pg_AzTIsFBgN"
      },
      "execution_count": null,
      "outputs": []
    },
    {
      "cell_type": "code",
      "source": [
        "### Now applying word embedding\n",
        "sentence_length=10\n",
        "embed=pad_sequences(ohe,padding='pre',maxlen=sentence_length)\n",
        "print(embed)"
      ],
      "metadata": {
        "colab": {
          "base_uri": "https://localhost:8080/"
        },
        "id": "fg8BPIleEr6V",
        "outputId": "f9f9e564-25e2-4d52-adbc-18fdd99bcd83"
      },
      "execution_count": 13,
      "outputs": [
        {
          "output_type": "stream",
          "name": "stdout",
          "text": [
            "[[  0   0   0   0 238 466 129 325 384 289]\n",
            " [  0   0   0   0 199 474 129 398 365 436]\n",
            " [  0   0   0   0   0   0 359 250 171 439]\n",
            " [  0   0   0   0   0  48 129 273 238 237]\n",
            " [  0   0   0 193 386 172 129 398 365  83]\n",
            " [  0   0   0   0 251 129 398 365 214 192]]\n"
          ]
        }
      ]
    },
    {
      "cell_type": "code",
      "source": [
        "### Now applying a sequential model\n",
        "\n",
        "model1=Sequential()\n",
        "model1.add(Embedding(voc_size,10,input_length=sentence_length))\n",
        "model1.compile('adam','mse')"
      ],
      "metadata": {
        "id": "c3cvJfSZFTii"
      },
      "execution_count": 14,
      "outputs": []
    },
    {
      "cell_type": "code",
      "source": [
        "model1.summary()"
      ],
      "metadata": {
        "colab": {
          "base_uri": "https://localhost:8080/"
        },
        "id": "WbDXgAx2GOgM",
        "outputId": "63850d72-688a-4c10-9de7-e0f2e16f2e98"
      },
      "execution_count": 15,
      "outputs": [
        {
          "output_type": "stream",
          "name": "stdout",
          "text": [
            "Model: \"sequential\"\n",
            "_________________________________________________________________\n",
            " Layer (type)                Output Shape              Param #   \n",
            "=================================================================\n",
            " embedding (Embedding)       (None, 10, 10)            5000      \n",
            "                                                                 \n",
            "=================================================================\n",
            "Total params: 5000 (19.53 KB)\n",
            "Trainable params: 5000 (19.53 KB)\n",
            "Non-trainable params: 0 (0.00 Byte)\n",
            "_________________________________________________________________\n"
          ]
        }
      ]
    },
    {
      "cell_type": "code",
      "source": [
        "model1.predict(embed)"
      ],
      "metadata": {
        "colab": {
          "base_uri": "https://localhost:8080/"
        },
        "id": "UyTYbOdZGQb6",
        "outputId": "53ef3562-8499-4104-e9c5-c416d10100e9"
      },
      "execution_count": 17,
      "outputs": [
        {
          "output_type": "stream",
          "name": "stdout",
          "text": [
            "1/1 [==============================] - 0s 34ms/step\n"
          ]
        },
        {
          "output_type": "execute_result",
          "data": {
            "text/plain": [
              "array([[[ 1.30610578e-02,  3.57828252e-02, -2.64324192e-02,\n",
              "         -2.53576525e-02, -1.57309547e-02,  4.28536274e-02,\n",
              "         -7.72244856e-03,  4.32051085e-02,  8.59634951e-03,\n",
              "          2.25448646e-02],\n",
              "        [ 1.30610578e-02,  3.57828252e-02, -2.64324192e-02,\n",
              "         -2.53576525e-02, -1.57309547e-02,  4.28536274e-02,\n",
              "         -7.72244856e-03,  4.32051085e-02,  8.59634951e-03,\n",
              "          2.25448646e-02],\n",
              "        [ 1.30610578e-02,  3.57828252e-02, -2.64324192e-02,\n",
              "         -2.53576525e-02, -1.57309547e-02,  4.28536274e-02,\n",
              "         -7.72244856e-03,  4.32051085e-02,  8.59634951e-03,\n",
              "          2.25448646e-02],\n",
              "        [ 1.30610578e-02,  3.57828252e-02, -2.64324192e-02,\n",
              "         -2.53576525e-02, -1.57309547e-02,  4.28536274e-02,\n",
              "         -7.72244856e-03,  4.32051085e-02,  8.59634951e-03,\n",
              "          2.25448646e-02],\n",
              "        [-1.88020822e-02, -3.70453708e-02,  3.14284116e-04,\n",
              "          5.24237007e-03,  6.40098006e-03,  4.62064892e-03,\n",
              "          1.99435093e-02, -2.69940142e-02, -2.25340482e-02,\n",
              "          4.16204445e-02],\n",
              "        [ 8.36027786e-03,  2.31809132e-02, -2.19418854e-03,\n",
              "          1.14034489e-03, -4.06709202e-02, -4.71111313e-02,\n",
              "          4.84466814e-02, -7.61177391e-03, -4.56675291e-02,\n",
              "         -3.25685292e-02],\n",
              "        [-3.19238789e-02, -2.89145242e-02,  1.51869766e-02,\n",
              "         -3.78840789e-02, -1.82288513e-02, -2.11214554e-02,\n",
              "         -7.00902939e-03, -2.38727573e-02, -2.28367448e-02,\n",
              "         -1.31763220e-02],\n",
              "        [ 2.46215500e-02, -8.59858841e-03, -4.03630510e-02,\n",
              "          5.81178814e-03, -6.13766909e-03, -7.18911737e-03,\n",
              "          3.26854624e-02,  9.99667495e-03,  2.44246386e-02,\n",
              "         -1.29305944e-02],\n",
              "        [ 2.42699273e-02,  3.46712582e-02, -3.85057703e-02,\n",
              "         -2.68734340e-02,  3.10765244e-02,  3.72629501e-02,\n",
              "          3.34614031e-02,  3.21197510e-03,  3.43551300e-02,\n",
              "         -2.24057194e-02],\n",
              "        [ 4.82659005e-02,  3.45642492e-03,  1.71430372e-02,\n",
              "         -2.96630394e-02, -2.57303249e-02, -2.74790768e-02,\n",
              "          2.01476552e-02,  2.03286745e-02,  1.25645287e-02,\n",
              "          9.41894203e-03]],\n",
              "\n",
              "       [[ 1.30610578e-02,  3.57828252e-02, -2.64324192e-02,\n",
              "         -2.53576525e-02, -1.57309547e-02,  4.28536274e-02,\n",
              "         -7.72244856e-03,  4.32051085e-02,  8.59634951e-03,\n",
              "          2.25448646e-02],\n",
              "        [ 1.30610578e-02,  3.57828252e-02, -2.64324192e-02,\n",
              "         -2.53576525e-02, -1.57309547e-02,  4.28536274e-02,\n",
              "         -7.72244856e-03,  4.32051085e-02,  8.59634951e-03,\n",
              "          2.25448646e-02],\n",
              "        [ 1.30610578e-02,  3.57828252e-02, -2.64324192e-02,\n",
              "         -2.53576525e-02, -1.57309547e-02,  4.28536274e-02,\n",
              "         -7.72244856e-03,  4.32051085e-02,  8.59634951e-03,\n",
              "          2.25448646e-02],\n",
              "        [ 1.30610578e-02,  3.57828252e-02, -2.64324192e-02,\n",
              "         -2.53576525e-02, -1.57309547e-02,  4.28536274e-02,\n",
              "         -7.72244856e-03,  4.32051085e-02,  8.59634951e-03,\n",
              "          2.25448646e-02],\n",
              "        [ 4.08796221e-03,  3.42309475e-04, -2.24210862e-02,\n",
              "          1.82313211e-02,  4.33467701e-03,  1.32180750e-04,\n",
              "          3.99380066e-02,  7.78347254e-03, -1.33158788e-02,\n",
              "         -2.96676885e-02],\n",
              "        [ 4.74232472e-02, -5.23552299e-05,  1.46289207e-02,\n",
              "         -2.93072704e-02, -4.61959355e-02, -1.22293085e-03,\n",
              "         -1.61459073e-02, -4.32016701e-03,  2.95946337e-02,\n",
              "         -7.96569511e-03],\n",
              "        [-3.19238789e-02, -2.89145242e-02,  1.51869766e-02,\n",
              "         -3.78840789e-02, -1.82288513e-02, -2.11214554e-02,\n",
              "         -7.00902939e-03, -2.38727573e-02, -2.28367448e-02,\n",
              "         -1.31763220e-02],\n",
              "        [ 4.99733537e-03,  4.82339002e-02, -3.66299637e-02,\n",
              "         -1.85708180e-02, -2.99259555e-02,  4.55116294e-02,\n",
              "          4.03441489e-04, -2.75369883e-02,  1.55021213e-02,\n",
              "         -7.93077052e-04],\n",
              "        [-1.79927573e-02, -3.18952203e-02,  4.54169028e-02,\n",
              "          2.75102593e-02, -4.04536724e-02, -4.52550538e-02,\n",
              "          1.41263045e-02, -3.52884158e-02,  3.44955213e-02,\n",
              "          1.24593973e-02],\n",
              "        [-1.30955577e-02, -1.15611441e-02, -1.26449950e-02,\n",
              "          2.47739665e-02,  1.79556049e-02, -5.33260033e-03,\n",
              "         -1.00099817e-02, -4.52936180e-02,  4.46339957e-02,\n",
              "         -4.75684777e-02]],\n",
              "\n",
              "       [[ 1.30610578e-02,  3.57828252e-02, -2.64324192e-02,\n",
              "         -2.53576525e-02, -1.57309547e-02,  4.28536274e-02,\n",
              "         -7.72244856e-03,  4.32051085e-02,  8.59634951e-03,\n",
              "          2.25448646e-02],\n",
              "        [ 1.30610578e-02,  3.57828252e-02, -2.64324192e-02,\n",
              "         -2.53576525e-02, -1.57309547e-02,  4.28536274e-02,\n",
              "         -7.72244856e-03,  4.32051085e-02,  8.59634951e-03,\n",
              "          2.25448646e-02],\n",
              "        [ 1.30610578e-02,  3.57828252e-02, -2.64324192e-02,\n",
              "         -2.53576525e-02, -1.57309547e-02,  4.28536274e-02,\n",
              "         -7.72244856e-03,  4.32051085e-02,  8.59634951e-03,\n",
              "          2.25448646e-02],\n",
              "        [ 1.30610578e-02,  3.57828252e-02, -2.64324192e-02,\n",
              "         -2.53576525e-02, -1.57309547e-02,  4.28536274e-02,\n",
              "         -7.72244856e-03,  4.32051085e-02,  8.59634951e-03,\n",
              "          2.25448646e-02],\n",
              "        [ 1.30610578e-02,  3.57828252e-02, -2.64324192e-02,\n",
              "         -2.53576525e-02, -1.57309547e-02,  4.28536274e-02,\n",
              "         -7.72244856e-03,  4.32051085e-02,  8.59634951e-03,\n",
              "          2.25448646e-02],\n",
              "        [ 1.30610578e-02,  3.57828252e-02, -2.64324192e-02,\n",
              "         -2.53576525e-02, -1.57309547e-02,  4.28536274e-02,\n",
              "         -7.72244856e-03,  4.32051085e-02,  8.59634951e-03,\n",
              "          2.25448646e-02],\n",
              "        [ 4.71417345e-02, -4.48705927e-02,  1.42204277e-02,\n",
              "         -2.12310199e-02, -2.62103677e-02, -3.01241409e-02,\n",
              "          3.67273204e-02, -8.79824162e-04, -1.04607716e-02,\n",
              "          9.57206637e-03],\n",
              "        [-4.52555194e-02, -2.35389359e-02,  4.39052694e-02,\n",
              "          2.08389424e-02, -3.80705670e-03,  1.94276683e-02,\n",
              "          9.00810957e-03,  4.62153889e-02, -4.90058437e-02,\n",
              "         -1.24118701e-02],\n",
              "        [ 1.85829401e-03, -2.85572540e-02,  2.75633372e-02,\n",
              "         -1.89550761e-02,  4.31923755e-02,  4.93658669e-02,\n",
              "         -2.71611810e-02, -3.28440070e-02, -9.81555134e-03,\n",
              "         -4.62968722e-02],\n",
              "        [ 3.42431404e-02, -2.71157157e-02,  3.34637426e-02,\n",
              "         -2.72049662e-02, -1.61949284e-02, -5.31526655e-03,\n",
              "         -2.60931142e-02,  4.19244654e-02,  4.10620905e-02,\n",
              "         -1.66135654e-02]],\n",
              "\n",
              "       [[ 1.30610578e-02,  3.57828252e-02, -2.64324192e-02,\n",
              "         -2.53576525e-02, -1.57309547e-02,  4.28536274e-02,\n",
              "         -7.72244856e-03,  4.32051085e-02,  8.59634951e-03,\n",
              "          2.25448646e-02],\n",
              "        [ 1.30610578e-02,  3.57828252e-02, -2.64324192e-02,\n",
              "         -2.53576525e-02, -1.57309547e-02,  4.28536274e-02,\n",
              "         -7.72244856e-03,  4.32051085e-02,  8.59634951e-03,\n",
              "          2.25448646e-02],\n",
              "        [ 1.30610578e-02,  3.57828252e-02, -2.64324192e-02,\n",
              "         -2.53576525e-02, -1.57309547e-02,  4.28536274e-02,\n",
              "         -7.72244856e-03,  4.32051085e-02,  8.59634951e-03,\n",
              "          2.25448646e-02],\n",
              "        [ 1.30610578e-02,  3.57828252e-02, -2.64324192e-02,\n",
              "         -2.53576525e-02, -1.57309547e-02,  4.28536274e-02,\n",
              "         -7.72244856e-03,  4.32051085e-02,  8.59634951e-03,\n",
              "          2.25448646e-02],\n",
              "        [ 1.30610578e-02,  3.57828252e-02, -2.64324192e-02,\n",
              "         -2.53576525e-02, -1.57309547e-02,  4.28536274e-02,\n",
              "         -7.72244856e-03,  4.32051085e-02,  8.59634951e-03,\n",
              "          2.25448646e-02],\n",
              "        [ 1.29102580e-02, -3.43672186e-03,  2.46664621e-02,\n",
              "          1.35314949e-02,  4.29540873e-03, -1.61804259e-04,\n",
              "         -1.67896748e-02,  3.48172076e-02, -4.93342765e-02,\n",
              "          4.86473553e-02],\n",
              "        [-3.19238789e-02, -2.89145242e-02,  1.51869766e-02,\n",
              "         -3.78840789e-02, -1.82288513e-02, -2.11214554e-02,\n",
              "         -7.00902939e-03, -2.38727573e-02, -2.28367448e-02,\n",
              "         -1.31763220e-02],\n",
              "        [-3.46284397e-02,  3.09015773e-02,  1.69920661e-02,\n",
              "         -1.14673600e-02,  3.19121033e-03, -1.89869292e-02,\n",
              "         -2.81839259e-02,  3.77488472e-02, -2.70954017e-02,\n",
              "         -6.77981228e-03],\n",
              "        [-1.88020822e-02, -3.70453708e-02,  3.14284116e-04,\n",
              "          5.24237007e-03,  6.40098006e-03,  4.62064892e-03,\n",
              "          1.99435093e-02, -2.69940142e-02, -2.25340482e-02,\n",
              "          4.16204445e-02],\n",
              "        [ 3.53180207e-02, -6.37508556e-03, -1.15684383e-02,\n",
              "         -3.37680206e-02, -2.73617506e-02,  3.88975181e-02,\n",
              "          2.16203369e-02,  3.15459855e-02,  3.44778225e-03,\n",
              "          3.43594663e-02]],\n",
              "\n",
              "       [[ 1.30610578e-02,  3.57828252e-02, -2.64324192e-02,\n",
              "         -2.53576525e-02, -1.57309547e-02,  4.28536274e-02,\n",
              "         -7.72244856e-03,  4.32051085e-02,  8.59634951e-03,\n",
              "          2.25448646e-02],\n",
              "        [ 1.30610578e-02,  3.57828252e-02, -2.64324192e-02,\n",
              "         -2.53576525e-02, -1.57309547e-02,  4.28536274e-02,\n",
              "         -7.72244856e-03,  4.32051085e-02,  8.59634951e-03,\n",
              "          2.25448646e-02],\n",
              "        [ 1.30610578e-02,  3.57828252e-02, -2.64324192e-02,\n",
              "         -2.53576525e-02, -1.57309547e-02,  4.28536274e-02,\n",
              "         -7.72244856e-03,  4.32051085e-02,  8.59634951e-03,\n",
              "          2.25448646e-02],\n",
              "        [-4.18629050e-02, -3.99498828e-02,  1.63242109e-02,\n",
              "          3.27426232e-02, -3.34277041e-02,  6.93228096e-03,\n",
              "          2.56940611e-02, -1.45303831e-02,  1.85056441e-02,\n",
              "         -3.13952193e-02],\n",
              "        [-2.70863064e-02,  4.36682589e-02,  4.27762009e-02,\n",
              "          1.43735744e-02, -1.75910480e-02,  4.62380685e-02,\n",
              "         -2.87868381e-02, -2.82415878e-02, -4.65305708e-02,\n",
              "          2.65196003e-02],\n",
              "        [ 3.16845663e-02, -2.23619230e-02,  3.37019078e-02,\n",
              "          2.32163817e-03,  1.78430565e-02,  4.13548686e-02,\n",
              "          7.03352690e-03, -3.17146778e-02, -4.25681360e-02,\n",
              "         -2.18982100e-02],\n",
              "        [-3.19238789e-02, -2.89145242e-02,  1.51869766e-02,\n",
              "         -3.78840789e-02, -1.82288513e-02, -2.11214554e-02,\n",
              "         -7.00902939e-03, -2.38727573e-02, -2.28367448e-02,\n",
              "         -1.31763220e-02],\n",
              "        [ 4.99733537e-03,  4.82339002e-02, -3.66299637e-02,\n",
              "         -1.85708180e-02, -2.99259555e-02,  4.55116294e-02,\n",
              "          4.03441489e-04, -2.75369883e-02,  1.55021213e-02,\n",
              "         -7.93077052e-04],\n",
              "        [-1.79927573e-02, -3.18952203e-02,  4.54169028e-02,\n",
              "          2.75102593e-02, -4.04536724e-02, -4.52550538e-02,\n",
              "          1.41263045e-02, -3.52884158e-02,  3.44955213e-02,\n",
              "          1.24593973e-02],\n",
              "        [-1.14397295e-02, -3.49118486e-02, -3.88282537e-03,\n",
              "         -4.52496521e-02,  8.32670927e-03, -9.43201780e-03,\n",
              "         -2.44657751e-02,  3.37702036e-03,  4.90428321e-02,\n",
              "          4.56330292e-02]],\n",
              "\n",
              "       [[ 1.30610578e-02,  3.57828252e-02, -2.64324192e-02,\n",
              "         -2.53576525e-02, -1.57309547e-02,  4.28536274e-02,\n",
              "         -7.72244856e-03,  4.32051085e-02,  8.59634951e-03,\n",
              "          2.25448646e-02],\n",
              "        [ 1.30610578e-02,  3.57828252e-02, -2.64324192e-02,\n",
              "         -2.53576525e-02, -1.57309547e-02,  4.28536274e-02,\n",
              "         -7.72244856e-03,  4.32051085e-02,  8.59634951e-03,\n",
              "          2.25448646e-02],\n",
              "        [ 1.30610578e-02,  3.57828252e-02, -2.64324192e-02,\n",
              "         -2.53576525e-02, -1.57309547e-02,  4.28536274e-02,\n",
              "         -7.72244856e-03,  4.32051085e-02,  8.59634951e-03,\n",
              "          2.25448646e-02],\n",
              "        [ 1.30610578e-02,  3.57828252e-02, -2.64324192e-02,\n",
              "         -2.53576525e-02, -1.57309547e-02,  4.28536274e-02,\n",
              "         -7.72244856e-03,  4.32051085e-02,  8.59634951e-03,\n",
              "          2.25448646e-02],\n",
              "        [ 3.95503156e-02, -1.55579671e-02, -1.26677752e-03,\n",
              "          3.07714008e-02,  2.02750452e-02, -1.88045502e-02,\n",
              "          2.22951286e-02,  1.04603060e-02, -3.09229251e-02,\n",
              "         -2.32198481e-02],\n",
              "        [-3.19238789e-02, -2.89145242e-02,  1.51869766e-02,\n",
              "         -3.78840789e-02, -1.82288513e-02, -2.11214554e-02,\n",
              "         -7.00902939e-03, -2.38727573e-02, -2.28367448e-02,\n",
              "         -1.31763220e-02],\n",
              "        [ 4.99733537e-03,  4.82339002e-02, -3.66299637e-02,\n",
              "         -1.85708180e-02, -2.99259555e-02,  4.55116294e-02,\n",
              "          4.03441489e-04, -2.75369883e-02,  1.55021213e-02,\n",
              "         -7.93077052e-04],\n",
              "        [-1.79927573e-02, -3.18952203e-02,  4.54169028e-02,\n",
              "          2.75102593e-02, -4.04536724e-02, -4.52550538e-02,\n",
              "          1.41263045e-02, -3.52884158e-02,  3.44955213e-02,\n",
              "          1.24593973e-02],\n",
              "        [-3.65804061e-02,  2.60685943e-02,  3.29858698e-02,\n",
              "          1.91134214e-03,  1.75202750e-02,  4.59593050e-02,\n",
              "         -4.60824855e-02,  4.10250910e-02, -3.86388227e-03,\n",
              "         -2.67606974e-02],\n",
              "        [ 1.80238001e-02, -4.95207086e-02, -4.17556651e-02,\n",
              "          3.45000066e-02,  1.91158094e-02, -3.05544864e-02,\n",
              "          5.25737926e-03, -4.46029194e-02, -2.31667161e-02,\n",
              "         -3.53955850e-02]]], dtype=float32)"
            ]
          },
          "metadata": {},
          "execution_count": 17
        }
      ]
    },
    {
      "cell_type": "code",
      "source": [],
      "metadata": {
        "id": "DaGYjcooGUr7"
      },
      "execution_count": null,
      "outputs": []
    }
  ]
}